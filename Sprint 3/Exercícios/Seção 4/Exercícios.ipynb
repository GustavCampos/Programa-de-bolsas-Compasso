{
 "cells": [
  {
   "cell_type": "markdown",
   "metadata": {},
   "source": [
    "# Seção 4: Exercícios Python 1 - 2/2\n",
    "\n",
    "6. Considere as duas listas abaixo:\n",
    "    ```Python\n",
    "        a = [1, 1, 2, 3, 5, 8, 14, 21, 34, 55, 89]\n",
    "        b = [1, 2, 3, 4, 5, 6, 7, 8, 9, 10, 11, 12, 13, 14, 15]\n",
    "    ```\n",
    "\n",
    "    Escreva um programa para avaliar o que ambas as listas têm em comum (sem repetições), imprimindo a lista de valores da interseção na saída padrão.\n",
    "\n",
    "    Importante:  Esperamos que você utilize o construtor ```set()``` em seu código."
   ]
  },
  {
   "cell_type": "code",
   "execution_count": 2,
   "metadata": {},
   "outputs": [
    {
     "name": "stdout",
     "output_type": "stream",
     "text": [
      "[1, 2, 3, 5, 8, 14]\n"
     ]
    }
   ],
   "source": [
    "a = [1, 1, 2, 3, 5, 8, 14, 21, 34, 55, 89]\n",
    "b = [1, 2, 3, 4, 5, 6, 7, 8, 9, 10, 11, 12, 13, 14, 15]\n",
    "\n",
    "print(list(set(a).intersection(b)))"
   ]
  },
  {
   "cell_type": "markdown",
   "metadata": {},
   "source": [
    "7. Dada a seguinte lista:\n",
    "    ```python\n",
    "        a = [1, 4, 9, 16, 25, 36, 49, 64, 81, 100]\n",
    "    ```\n",
    "\n",
    "    Faça um programa que gere uma nova lista contendo apenas números ímpares."
   ]
  },
  {
   "cell_type": "code",
   "execution_count": 2,
   "metadata": {},
   "outputs": [
    {
     "name": "stdout",
     "output_type": "stream",
     "text": [
      "[1, 9, 25, 49, 81]\n"
     ]
    }
   ],
   "source": [
    "a = [1, 4, 9, 16, 25, 36, 49, 64, 81, 100]\n",
    "\n",
    "resposta = list(filter(lambda n: n % 2 != 0, a))\n",
    "\n",
    "print(resposta)"
   ]
  },
  {
   "cell_type": "markdown",
   "metadata": {},
   "source": [
    "8. Verifique se cada uma das palavras da lista ```['maça', 'arara', 'audio', 'radio', 'radar', 'moto']``` é ou não um palíndromo.\n",
    "\n",
    "    Obs: Palíndromo é uma palavra que permanece igual se lida de traz pra frente.\n",
    "\n",
    "\n",
    "    É necessário que você imprima no console exatamente assim:\n",
    "\n",
    "    ```python\n",
    "        A palavra: maça não é um palíndromo\n",
    "        \n",
    "        A palavra: arara é um palíndromo\n",
    "        \n",
    "        A palavra: audio não é um palíndromo\n",
    "        \n",
    "        A palavra: radio não é um palíndromo\n",
    "        \n",
    "        A palavra: radar é um palíndromo\n",
    "        \n",
    "        A palavra: moto não é um palíndromo\n",
    "    ```"
   ]
  },
  {
   "cell_type": "code",
   "execution_count": 3,
   "metadata": {},
   "outputs": [
    {
     "name": "stdout",
     "output_type": "stream",
     "text": [
      "A palavra: maça não é um palíndromo\n",
      "A palavra: arara é um palíndromo\n",
      "A palavra: audio não é um palíndromo\n",
      "A palavra: radio não é um palíndromo\n",
      "A palavra: radar é um palíndromo\n",
      "A palavra: moto não é um palíndromo\n"
     ]
    }
   ],
   "source": [
    "lista_palavras = ['maça', 'arara', 'audio', 'radio', 'radar', 'moto']\n",
    "\n",
    "for palavra in lista_palavras:\n",
    "    if palavra == palavra[::-1]:\n",
    "        print(f\"A palavra: {palavra} é um palíndromo\")\n",
    "    else:\n",
    "        print(f\"A palavra: {palavra} não é um palíndromo\")"
   ]
  },
  {
   "cell_type": "markdown",
   "metadata": {},
   "source": [
    "9.  Dada as listas a seguir:\n",
    "\n",
    "    ```python\n",
    "        primeirosNomes = ['Joao', 'Douglas', 'Lucas', 'José']\n",
    "        sobreNomes = ['Soares', 'Souza', 'Silveira', 'Pedreira']\n",
    "        idades = [19, 28, 25, 31]\n",
    "    ```\n",
    "\n",
    "    Faça um programa que imprima o dados na seguinte estrutura: \"índice - primeiroNome sobreNome está com idade anos\".\n",
    "\n",
    "    *Exemplo:*\n",
    "\n",
    "    0 - João Soares está com 19 anos"
   ]
  },
  {
   "cell_type": "code",
   "execution_count": 4,
   "metadata": {},
   "outputs": [
    {
     "name": "stdout",
     "output_type": "stream",
     "text": [
      "0 - Joao Soares está com 19 anos\n",
      "1 - Douglas Souza está com 28 anos\n",
      "2 - Lucas Silveira está com 25 anos\n",
      "3 - José Pedreira está com 31 anos\n"
     ]
    }
   ],
   "source": [
    "primeirosNomes = ['Joao', 'Douglas', 'Lucas', 'José']\n",
    "sobreNomes = ['Soares', 'Souza', 'Silveira', 'Pedreira']\n",
    "idades = [19, 28, 25, 31]\n",
    "\n",
    "for c in enumerate(zip(primeirosNomes, sobreNomes, idades)):\n",
    "    print(f\"{c[0]} - {c[1][0]} {c[1][1]} está com {c[1][2]} anos\")"
   ]
  },
  {
   "cell_type": "markdown",
   "metadata": {},
   "source": [
    "10. Escreva uma função que recebe uma lista e retorna uma nova lista sem elementos duplicados. \n",
    "    \n",
    "    Utilize a lista a seguir para testar sua função.\n",
    "\n",
    "    ```python\n",
    "    ['abc', 'abc', 'abc', '123', 'abc', '123', '123']\n",
    "    ``` "
   ]
  },
  {
   "cell_type": "code",
   "execution_count": 5,
   "metadata": {},
   "outputs": [
    {
     "name": "stdout",
     "output_type": "stream",
     "text": [
      "['abc', '123']\n"
     ]
    }
   ],
   "source": [
    "def generateListBySet(n: list) -> list:\n",
    "    return list(set(n))\n",
    "\n",
    "lista = ['abc', 'abc', 'abc', '123', 'abc', '123', '123']\n",
    "print(generateListBySet(lista))\n"
   ]
  },
  {
   "cell_type": "markdown",
   "metadata": {},
   "source": [
    "11. Leia o arquivo person.json, faça o parsing e imprima seu conteúdo.\n",
    "    Dica: leia a documentação do pacote json"
   ]
  },
  {
   "cell_type": "code",
   "execution_count": 6,
   "metadata": {},
   "outputs": [
    {
     "name": "stdout",
     "output_type": "stream",
     "text": [
      "{'name': 'Fulano Da Silva', 'endereco': 'Rua Sem Nome, 31', 'startDateExecution': '2019-06-25 16:25:23.233', 'endDateExecution': '2019-06-25 16:25:23.331', 'siteId': 'BrasilDesktop', 'sitePage': '/', 'serverName': 'AS1332:10181', 'profileId': '8947071299', 'type': 'JSP_RENDERING', 'path': 'testado/com', 'performanceType': 'JSP_RENDERING'}\n"
     ]
    }
   ],
   "source": [
    "import json\n",
    "\n",
    "with open('person.json', 'r') as file:\n",
    "    json_obj = json.load(file)\n",
    "    \n",
    "    print(json_obj)\n",
    "\n",
    "    file.close()"
   ]
  },
  {
   "cell_type": "markdown",
   "metadata": {},
   "source": [
    "12. Implemente a função ```my_map(list, f)``` que recebe uma lista como primeiro argumento e uma função como segundo argumento. \n",
    "\n",
    "    Esta função aplica a função recebida para cada elemento da lista recebida e retorna o resultado em uma nova lista.\n",
    "\n",
    "    Teste sua função com a lista de entrada ```[1, 2, 3, 4, 5, 6, 7, 8, 9, 10]``` e com uma função que potência de 2 para cada elemento."
   ]
  },
  {
   "cell_type": "code",
   "execution_count": 7,
   "metadata": {},
   "outputs": [
    {
     "name": "stdout",
     "output_type": "stream",
     "text": [
      "[1, 4, 9, 16, 25, 36, 49, 64, 81, 100]\n"
     ]
    }
   ],
   "source": [
    "def my_map(l, f) -> list:\n",
    "    new_list = []\n",
    "    \n",
    "    for c in l:\n",
    "        new_list.append(f(c))\n",
    "    \n",
    "    return new_list\n",
    "\n",
    "lista_teste = [1, 2, 3, 4, 5, 6, 7, 8, 9, 10]\n",
    "\n",
    "print(my_map(lista_teste, lambda n: n**2))"
   ]
  },
  {
   "cell_type": "markdown",
   "metadata": {},
   "source": [
    "13. Escreva um programa que lê o conteúdo do arquivo texto _arquivo_texto.txt_ e imprime o seu conteúdo.\n",
    "\n",
    "    Dica: leia a documentação da função ```open(...)```"
   ]
  },
  {
   "cell_type": "code",
   "execution_count": 8,
   "metadata": {},
   "outputs": [
    {
     "name": "stdout",
     "output_type": "stream",
     "text": [
      "Este conteúdo está em\n",
      "um\n",
      "arquivo\n",
      "de texto."
     ]
    }
   ],
   "source": [
    "with open(\"arquivo_texto.txt\", 'r', encoding='utf8') as file:\n",
    "    print(file.read(), end='')\n",
    "    file.close()"
   ]
  },
  {
   "cell_type": "markdown",
   "metadata": {},
   "source": [
    "14. Escreva uma função que recebe um número variável de parâmetros não nomeados e um número variado de parâmetros nomeados e imprime o ***valor*** de cada parâmetro recebido.\n",
    "\n",
    "\n",
    "    Teste sua função com os seguintes parâmetros: \n",
    "    ```python\n",
    "    (1, 3, 4, 'hello', parametro_nomeado='alguma coisa', x=20)\n",
    "    ```"
   ]
  },
  {
   "cell_type": "code",
   "execution_count": 9,
   "metadata": {},
   "outputs": [
    {
     "name": "stdout",
     "output_type": "stream",
     "text": [
      "1\n",
      "3\n",
      "4\n",
      "hello\n",
      "alguma coisa\n",
      "20\n"
     ]
    }
   ],
   "source": [
    "def func(*args, **kwargs):\n",
    "    for value in args:\n",
    "        print(value)\n",
    "    \n",
    "    for key, value in kwargs.items():\n",
    "        print(value)\n",
    "        \n",
    "func(1, 3, 4, 'hello', parametro_nomeado='alguma coisa', x=20)"
   ]
  },
  {
   "cell_type": "markdown",
   "metadata": {},
   "source": [
    "15. Implemente a classe Lampada. A classe ```Lâmpada``` recebe um booleano no seu construtor, ```True``` se a lâmpada estiver ligada, ```False``` caso esteja desligada. A classe ```Lampada``` possuí os seguintes métodos:\n",
    "\n",
    "    * ```liga()```: muda o estado da lâmpada para ligada\n",
    "    * ```desliga()```: muda o estado da lâmpada para desligada\n",
    "    * ```esta_ligada()```: retorna verdadeiro se a lâmpada estiver ligada, falso caso contrário\n",
    "\n",
    "    Para testar sua classe:\n",
    "    1. Ligue a Lampada\n",
    "    2. Imprima: A lâmpada está ligada? True\n",
    "    3. Desligue a Lampada\n",
    "    4. Imprima: A lâmpada ainda está ligada? False"
   ]
  },
  {
   "cell_type": "code",
   "execution_count": 12,
   "metadata": {},
   "outputs": [
    {
     "name": "stdout",
     "output_type": "stream",
     "text": [
      "A lâmpada está ligada? True\n",
      "A lâmpada ainda está ligada? False\n"
     ]
    }
   ],
   "source": [
    "class Lampada(object):\n",
    "    def __init__(self, ligada: bool=False) -> None:\n",
    "        self.ligada = ligada\n",
    "    \n",
    "    def liga(self) -> None:\n",
    "        self.ligada = True\n",
    "        \n",
    "    def desliga(self) -> None:\n",
    "        self.ligada = False\n",
    "        \n",
    "    def esta_ligada(self) -> bool:\n",
    "        return self.ligada\n",
    "    \n",
    "def main():\n",
    "    lampada = Lampada()\n",
    "    lampada.liga()\n",
    "    print(f\"A lâmpada está ligada? {lampada.esta_ligada()}\")\n",
    "    lampada.desliga()\n",
    "    print(f\"A lâmpada ainda está ligada? {lampada.esta_ligada()}\")\n",
    "    \n",
    "main()"
   ]
  },
  {
   "cell_type": "markdown",
   "metadata": {},
   "source": [
    "16. Escreva uma função que recebe uma string de números separados por vírgula e retorne a soma de todos eles. \n",
    "    \n",
    "    Depois imprima a soma dos valores.\n",
    "\n",
    "    A string deve ter valor ```\"1,3,4,6,10,76\"```"
   ]
  },
  {
   "cell_type": "code",
   "execution_count": 13,
   "metadata": {},
   "outputs": [
    {
     "name": "stdout",
     "output_type": "stream",
     "text": [
      "100\n"
     ]
    }
   ],
   "source": [
    "def sum_values(string: str) -> int:\n",
    "    char_array = string.split(\",\")\n",
    "    int_array = map(int, char_array)\n",
    "        \n",
    "    return sum(int_array)\n",
    "\n",
    "string = \"1,3,4,6,10,76\"\n",
    "print(sum_values(string))"
   ]
  },
  {
   "cell_type": "markdown",
   "metadata": {},
   "source": [
    "17. Escreva uma função que recebe como parâmetro uma lista e retorna 3 listas: \n",
    "    A lista recebida dividida em 3 partes iguais. Teste sua implementação com a lista abaixo\n",
    "\n",
    "    ```python\n",
    "    lista = [1, 2, 3, 4, 5, 6, 7, 8, 9, 10, 11, 12] \n",
    "    ```"
   ]
  },
  {
   "cell_type": "code",
   "execution_count": 33,
   "metadata": {},
   "outputs": [
    {
     "name": "stdout",
     "output_type": "stream",
     "text": [
      "[1, 2, 3, 4] [5, 6, 7, 8] [9, 10, 11, 12]\n"
     ]
    }
   ],
   "source": [
    "def get_3_sublists(subject: list) -> list:\n",
    "    offset = int(len(subject) / 3)\n",
    "        \n",
    "    list_1 = subject[:offset]\n",
    "    list_2 = subject[offset:(offset*2)]\n",
    "    list_3 = subject[(offset*2):]    \n",
    "        \n",
    "    return [list_1, list_2, list_3]\n",
    "    \n",
    "lista = [1, 2, 3, 4, 5, 6, 7, 8, 9, 10, 11, 12]\n",
    "listas = get_3_sublists(lista) \n",
    "print(listas[0], listas[1], listas[2])\n"
   ]
  },
  {
   "cell_type": "markdown",
   "metadata": {},
   "source": [
    "18. Dado o dicionário a seguir:\n",
    "\n",
    "    ```python\n",
    "    speed = {'jan':47, 'feb':52, 'march':47, 'April':44, 'May':52, 'June':53, 'july':54, 'Aug':44, 'Sept':54}\n",
    "    ```\n",
    "\n",
    "    Crie uma lista com todos os ***valores*** (não as chaves!) e coloque numa lista de forma que não haja valores duplicados."
   ]
  },
  {
   "cell_type": "code",
   "execution_count": 35,
   "metadata": {},
   "outputs": [
    {
     "name": "stdout",
     "output_type": "stream",
     "text": [
      "[44, 47, 52, 53, 54]\n"
     ]
    }
   ],
   "source": [
    "speed = {'jan':47, 'feb':52, 'march':47, 'April':44, 'May':52, 'June':53, 'july':54, 'Aug':44, 'Sept':54}\n",
    "\n",
    "print(list(set(speed.values())))"
   ]
  },
  {
   "cell_type": "markdown",
   "metadata": {},
   "source": [
    "19. Calcule o valor mínimo, valor máximo, valor médio e a mediana da lista gerada na célula abaixo:\n",
    "\n",
    "    Obs.: Lembrem-se, para calcular a mediana a lista deve estar ***ordenada!***\n",
    "\n",
    "    ```python\n",
    "    import random \n",
    "    # amostra aleatoriamente 50 números do intervalo 0...500\n",
    "    random_list = random.sample(range(500),50)\n",
    "    ```\n",
    "\n",
    "    Use as variáveis abaixo para representar cada operação matemática:\n",
    "\n",
    "    ```python\n",
    "    mediana\n",
    "    media\n",
    "    valor_minimo \n",
    "    valor_maximo \n",
    "    ```\n",
    "\n",
    "    ***Importante:*** Esperamos que você utilize as funções abaixo em seu código:\n",
    "    * random\n",
    "    * max\n",
    "    * min\n",
    "    * sum"
   ]
  },
  {
   "cell_type": "code",
   "execution_count": 68,
   "metadata": {},
   "outputs": [
    {
     "name": "stdout",
     "output_type": "stream",
     "text": [
      "Media: 231.76, Mediana: 227.0, Mínimo: 15, Máximo: 467\n"
     ]
    }
   ],
   "source": [
    "import random \n",
    "# amostra aleatoriamente 50 números do intervalo 0...500\n",
    "random_list = random.sample(range(500),50)\n",
    "\n",
    "random_list.sort()\n",
    "lenght = len(random_list)\n",
    "is_even = (lenght % 2 == 0)\n",
    "mid_index = ((lenght // 2), (lenght // 2) - 1)[is_even]  \n",
    "\n",
    "valor_minimo = min(random_list)\n",
    "valor_maximo = max(random_list)\n",
    "media = sum(random_list) / lenght\n",
    "\n",
    "mediana = (random_list[mid_index], (random_list[mid_index] + random_list[mid_index + 1]) / 2)[is_even]\n",
    "\n",
    "print(f\"Media: {media}, Mediana: {mediana}, Mínimo: {valor_minimo}, Máximo: {valor_maximo}\")"
   ]
  },
  {
   "cell_type": "markdown",
   "metadata": {},
   "source": [
    "20. Imprima a lista abaixo de trás para frente.\n",
    "\n",
    "    ```python\n",
    "    a = [1, 0, 2, 3, 5, 8, 13, 21, 34, 55, 89] \n",
    "    ```"
   ]
  },
  {
   "cell_type": "code",
   "execution_count": 69,
   "metadata": {},
   "outputs": [
    {
     "name": "stdout",
     "output_type": "stream",
     "text": [
      "[89, 55, 34, 21, 13, 8, 5, 3, 2, 0, 1]\n"
     ]
    }
   ],
   "source": [
    "a = [1, 0, 2, 3, 5, 8, 13, 21, 34, 55, 89] \n",
    "\n",
    "print(a[::-1])"
   ]
  },
  {
   "cell_type": "markdown",
   "metadata": {},
   "source": [
    "21. Implemente duas classes, ```Pato``` e ```Pardal```, que herdam de uma superclasse chamada ```Passaro``` as habilidades de ```voar``` e ```emitir som```.\n",
    "\n",
    "    Contudo, tanto ```Pato``` quanto ```Pardal``` devem emitir sons diferentes (de maneira escrita) no console, conforme o modelo a seguir.\n",
    "\n",
    "    Imprima no console exatamente assim:\n",
    "    ```python\n",
    "    Pato\n",
    "    Voando...\n",
    "    Pato emitindo som...\n",
    "    Quack Quack\n",
    "    Pardal\n",
    "    Voando...\n",
    "    Pardal emitindo som...\n",
    "    Piu Piu\n",
    "    ```"
   ]
  },
  {
   "cell_type": "code",
   "execution_count": 70,
   "metadata": {},
   "outputs": [
    {
     "name": "stdout",
     "output_type": "stream",
     "text": [
      "Voando...\n",
      "Pato emitindo som...\n",
      "Quack Quack\n",
      "Voando...\n",
      "Pardal emitindo som...\n",
      "Piu Piu\n"
     ]
    }
   ],
   "source": [
    "class Passaro(object):\n",
    "    def voar(self) -> None:\n",
    "        print(\"Voando...\")\n",
    "        \n",
    "class Pato(Passaro):\n",
    "    def emitir_som(self) -> None:\n",
    "        print(\"Pato emitindo som...\")\n",
    "        print(\"Quack Quack\")\n",
    "        \n",
    "class Pardal(Passaro):\n",
    "    def emitir_som(self) -> None:\n",
    "        print(\"Pardal emitindo som...\")\n",
    "        print(\"Piu Piu\")\n",
    "        \n",
    "def main():\n",
    "    pato = Pato()\n",
    "    pato.voar()\n",
    "    pato.emitir_som()\n",
    "    \n",
    "    pardal = Pardal()\n",
    "    pardal.voar()\n",
    "    pardal.emitir_som()\n",
    "    \n",
    "main()"
   ]
  },
  {
   "cell_type": "markdown",
   "metadata": {},
   "source": [
    "22. Crie uma classe chamada ```Pessoa```, com um atributo privado chamado ```nome``` (declarado internamente na classe como ```__nome```) e um atributo público de nome ```id```.\n",
    "\n",
    "    Adicione dois métodos à classe, sendo um para definir o valor de ```__nome``` e outro para retornar o valor do respectivo atributo.\n",
    "\n",
    "    Lembre-se que o acesso ao atributo privado deve ocorrer somente através dos métodos definidos, nunca diretamente.  Você pode alcançar este comportamento através do recurso de properties do Python.\n",
    "\n",
    "\n",
    "    Veja um exemplo de como seu atributo privado pode ser lido e escrito:\n",
    "\n",
    "    ```python\n",
    "    pessoa = Pessoa(0) \n",
    "    pessoa.nome = 'Fulano De Tal'\n",
    "    print(pessoa.nome)\n",
    "    ```"
   ]
  },
  {
   "cell_type": "code",
   "execution_count": null,
   "metadata": {},
   "outputs": [],
   "source": [
    "class Pessoa(object):\n",
    "    def __init__(self, id: int) -> None:\n",
    "        self.__nome = None\n",
    "        self.id = id\n",
    "        \n",
    "    @property\n",
    "    def nome(self) -> str:\n",
    "        return self.__nome\n",
    "    \n",
    "    @nome.setter\n",
    "    def nome(self, nome):\n",
    "        self.__nome = nome\n",
    "        \n",
    "    @nome.getter\n",
    "    def nome(self) -> str:\n",
    "        return self.__nome"
   ]
  },
  {
   "cell_type": "markdown",
   "metadata": {},
   "source": [
    "23. Crie uma classe  ```Calculo```  que contenha um método que aceita dois parâmetros, ```X``` e ```Y```, e retorne a soma dos dois. Nessa mesma classe, implemente um método de subtração, que aceita dois parâmetros, ```X``` e ```Y```, e retorne a subtração dos dois (resultados negativos são permitidos).\n",
    "\n",
    "\n",
    "    Utilize os valores abaixo para testar seu exercício:\n",
    "    ```python\n",
    "        x = 4 \n",
    "        y = 5\n",
    "    ```\n",
    "    imprima:\n",
    "    ```python\n",
    "        Somando: 4+5 = 9\n",
    "        Subtraindo: 4-5 = -1\n",
    "    ```"
   ]
  },
  {
   "cell_type": "code",
   "execution_count": 73,
   "metadata": {},
   "outputs": [
    {
     "name": "stdout",
     "output_type": "stream",
     "text": [
      "Somando: 4+5 = 9\n",
      "Subtraindo: 4-5 = -1\n"
     ]
    }
   ],
   "source": [
    "class Calculo(object):\n",
    "    def soma(self, x, y):\n",
    "        return x + y\n",
    "    \n",
    "    def subtracao(self, x, y):\n",
    "        return x - y\n",
    "    \n",
    "def main():\n",
    "    calculo = Calculo()\n",
    "    x = 4\n",
    "    y = 5\n",
    "    \n",
    "    print(f\"Somando: {x}+{y} = {calculo.soma(x, y)}\")\n",
    "    print(f\"Subtraindo: {x}-{y} = {calculo.subtracao(x, y)}\")\n",
    "    \n",
    "main()"
   ]
  },
  {
   "cell_type": "markdown",
   "metadata": {},
   "source": [
    "24. Crie uma classe ```Ordenadora``` que contenha um atributo ```listaBaguncada``` e que contenha os métodos ```ordenacaoCrescente``` e ```ordenacaoDecrescente```.\n",
    "\n",
    "    Instancie um objeto chamado ```crescente``` dessa classe ```Ordenadora``` que tenha como ```listaBaguncada``` a lista ```[3,4,2,1,5]``` e instancie um outro objeto, ```decrescente``` dessa mesma classe com uma outra ```listaBaguncada``` sendo ```[9,7,6,8]```.\n",
    "\n",
    "    Para o primeiro objeto citado, use o método ```ordenacaoCrescente``` e para o segundo objeto, use o método ```ordenacaoDecrescente```.\n",
    "\n",
    "    Imprima o resultado da ordenação crescente e da ordenação decresce\n",
    "    ```python\n",
    "        [1, 2, 3, 4, 5] \n",
    "        [9, 8, 7, 6]\n",
    "    ```"
   ]
  },
  {
   "cell_type": "code",
   "execution_count": 76,
   "metadata": {},
   "outputs": [
    {
     "name": "stdout",
     "output_type": "stream",
     "text": [
      "[1, 2, 3, 4, 5]\n",
      "[9, 8, 7, 6]\n"
     ]
    }
   ],
   "source": [
    "class Ordenadora(object):\n",
    "    def __init__(self, listaBaguncada: list) -> None:\n",
    "        self.listaBaguncada = listaBaguncada\n",
    "        \n",
    "    def ordenacaoCrescente(self) -> list:\n",
    "        return sorted(self.listaBaguncada)\n",
    "    \n",
    "    def ordenacaoDecrescente(self) -> list:\n",
    "        return sorted(self.listaBaguncada, reverse=True)\n",
    "    \n",
    "def main():\n",
    "    crescente = Ordenadora([3,4,2,1,5])\n",
    "    decrescente = Ordenadora([9,7,6,8])\n",
    "    \n",
    "    print(crescente.ordenacaoCrescente())\n",
    "    print(decrescente.ordenacaoDecrescente())\n",
    "    \n",
    "main()"
   ]
  },
  {
   "cell_type": "markdown",
   "metadata": {},
   "source": [
    "25. Crie uma classe ```Avião``` que possua os atributos ```modelo```, ```velocidade_maxima```, ```cor``` e ```capacidade```.\n",
    "\n",
    "    Defina o atributo ```cor``` de sua classe , de maneira que todas as instâncias de sua classe avião sejam da cor “azul”.\n",
    "\n",
    "    Após isso, a partir de entradas abaixo, instancie e armazene em uma lista 3 objetos da classe ```Avião```.\n",
    "\n",
    "    Ao final, itere pela lista imprimindo cada um dos objetos no seguinte formato:\n",
    "\n",
    "    “O avião de modelo “x” possui uma velocidade máxima de “y”, capacidade para “z” passageiros e é da cor “w”.\n",
    "\n",
    "    Sendo x, y, z e w cada um dos atributos da classe “Avião”.\n",
    "\n",
    "\n",
    "    **Valores de entrada:**\n",
    "    * modelo BOIENG456: velocidade máxima 1500 km/h: capacidade para 400 passageiros: Cor Azul\n",
    "\n",
    "    * modelo Embraer Praetor 600: velocidade máxima 863km/h: capacidade para 14 passageiros: Cor Azul\n",
    "\n",
    "    * modelo Antonov An-2: velocidade máxima de 258 Km/h: capacidade para 12 passageiros: Cor Azul"
   ]
  },
  {
   "cell_type": "code",
   "execution_count": 79,
   "metadata": {},
   "outputs": [
    {
     "name": "stdout",
     "output_type": "stream",
     "text": [
      "O avião de modelo BOIENG456 possui uma velocidade máxima de 1500, capacidade para 400 passageiros e é da cor azul\n",
      "O avião de modelo Embraer Praetor 600 possui uma velocidade máxima de 863, capacidade para 14 passageiros e é da cor azul\n",
      "O avião de modelo Antonov An-2 possui uma velocidade máxima de 258, capacidade para 12 passageiros e é da cor azul\n"
     ]
    }
   ],
   "source": [
    "class Aviao(object):\n",
    "    def __init__(self, modelo: str, velocidade_maxima: float, capacidade: int, cor: str=\"azul\"):\n",
    "        self.modelo = modelo\n",
    "        self.velocidade_maxima = velocidade_maxima\n",
    "        self.capacidade = capacidade\n",
    "        self.cor = cor\n",
    "        \n",
    "def main():\n",
    "    avioes = [\n",
    "        Aviao(\"BOIENG456\", 1500, 400),\n",
    "        Aviao(\"Embraer Praetor 600\", 863, 14),\n",
    "        Aviao(\"Antonov An-2\", 258, 12)\n",
    "    ]\n",
    "    \n",
    "    for a in avioes:\n",
    "        print(f\"O avião de modelo {a.modelo} possui uma velocidade máxima de {a.velocidade_maxima}, capacidade para {a.capacidade} passageiros e é da cor {a.cor}\")\n",
    "    \n",
    "main()"
   ]
  }
 ],
 "metadata": {
  "kernelspec": {
   "display_name": "Python 3",
   "language": "python",
   "name": "python3"
  },
  "language_info": {
   "codemirror_mode": {
    "name": "ipython",
    "version": 3
   },
   "file_extension": ".py",
   "mimetype": "text/x-python",
   "name": "python",
   "nbconvert_exporter": "python",
   "pygments_lexer": "ipython3",
   "version": "3.12.3"
  }
 },
 "nbformat": 4,
 "nbformat_minor": 2
}
