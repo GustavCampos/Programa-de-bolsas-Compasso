{
 "cells": [
  {
   "cell_type": "markdown",
   "metadata": {},
   "source": [
    "# Section 3: Exercícios Python I - 1/2\n",
    "\n",
    "1. Desenvolva um código em Python que crie variáveis para armazenar o nome e a idade de uma pessoa, juntamente com seus valores correspondentes. Como saída, imprima o ano em que a pessoa completará 100 anos de idade."
   ]
  },
  {
   "cell_type": "code",
   "execution_count": 6,
   "metadata": {},
   "outputs": [
    {
     "name": "stdout",
     "output_type": "stream",
     "text": [
      "2112\n"
     ]
    }
   ],
   "source": [
    "from datetime import datetime\n",
    "\n",
    "nome = \"Jorge\"\n",
    "idade = 12\n",
    "\n",
    "print(datetime.now().year + (100 - idade))"
   ]
  },
  {
   "cell_type": "markdown",
   "metadata": {},
   "source": [
    "2. Escreva um código Python que use a função range() para adicionar três números em uma lista(Esta lista deve chamar-se 'números')  e verificar se esses três números são pares ou ímpares. Para cada número, imprima como saída Par: ou Ímpar: e o número correspondente (um linha para cada número lido).\n",
    "\n",
    "\n",
    "    Importante: Aplique a função range() em seu código.\n",
    "\n",
    "\n",
    "    Exemplos de saída:\n",
    "\n",
    "        Par: 2\n",
    "        Ímpar: 3"
   ]
  },
  {
   "cell_type": "code",
   "execution_count": 9,
   "metadata": {},
   "outputs": [
    {
     "name": "stdout",
     "output_type": "stream",
     "text": [
      "Par: 0\n",
      "Ímpar: 1\n",
      "Par: 2\n"
     ]
    }
   ],
   "source": [
    "numeros = [*range(3)]\n",
    "\n",
    "for c in numeros:\n",
    "    if c % 2 == 0:\n",
    "        print(f\"Par: {c}\")\n",
    "    else:\n",
    "        print(f\"Ímpar: {c}\")"
   ]
  },
  {
   "cell_type": "markdown",
   "metadata": {},
   "source": [
    "3. Escreva um código Python para imprimir os números pares de 0 até 20 (incluso).\n",
    "\n",
    "    Importante: Aplique a função ```range()``` em seu código."
   ]
  },
  {
   "cell_type": "code",
   "execution_count": 13,
   "metadata": {},
   "outputs": [
    {
     "name": "stdout",
     "output_type": "stream",
     "text": [
      "0\n",
      "2\n",
      "4\n",
      "6\n",
      "8\n",
      "10\n",
      "12\n",
      "14\n",
      "16\n",
      "18\n",
      "20\n"
     ]
    }
   ],
   "source": [
    "array = range(0, 21, 2)\n",
    "\n",
    "for c in array:\n",
    "    print(c)"
   ]
  },
  {
   "cell_type": "markdown",
   "metadata": {},
   "source": [
    "4. Escreva um código Python para imprimir todos os números primos entre 1 até 100. Lembre-se que você deverá desenvolver o cálculo que identifica se um número é primo ou não.\n",
    "\n",
    "\n",
    "    Importante: Aplique a função ```range()```."
   ]
  },
  {
   "cell_type": "code",
   "execution_count": 20,
   "metadata": {},
   "outputs": [
    {
     "name": "stdout",
     "output_type": "stream",
     "text": [
      "2\n",
      "3\n",
      "5\n",
      "7\n",
      "11\n",
      "13\n",
      "17\n",
      "19\n",
      "23\n",
      "29\n",
      "31\n",
      "37\n",
      "41\n",
      "43\n",
      "47\n",
      "53\n",
      "59\n",
      "61\n",
      "67\n",
      "71\n",
      "73\n",
      "79\n",
      "83\n",
      "89\n",
      "97\n"
     ]
    }
   ],
   "source": [
    "def is_prime(n):\n",
    "    if n == 1: return False\n",
    "    \n",
    "    for c in range(2, n):\n",
    "        if n % c == 0:\n",
    "            return False\n",
    "    return True\n",
    "\n",
    "for c in range(1, 101):\n",
    "    if is_prime(c):\n",
    "        print(c)"
   ]
  },
  {
   "cell_type": "markdown",
   "metadata": {},
   "source": [
    "5. Escreva um código Python que declara 3 variáveis:\n",
    "\n",
    "    * ```dia```, inicializada com valor ```22```\n",
    "    * ```mes```, inicializada com valor ```10``` e\n",
    "    * ```ano```, inicializada com valor ```2022```\n",
    "\n",
    "    Como saída, você deverá imprimir a data correspondente, no formato a seguir ```dia/mes/ano```."
   ]
  },
  {
   "cell_type": "code",
   "execution_count": 21,
   "metadata": {},
   "outputs": [
    {
     "name": "stdout",
     "output_type": "stream",
     "text": [
      "22/10/2022\n"
     ]
    }
   ],
   "source": [
    "dia = 22\n",
    "mes = 10\n",
    "ano = 2022\n",
    "\n",
    "print(f\"{dia}/{mes}/{ano}\")"
   ]
  }
 ],
 "metadata": {
  "kernelspec": {
   "display_name": "Python 3",
   "language": "python",
   "name": "python3"
  },
  "language_info": {
   "codemirror_mode": {
    "name": "ipython",
    "version": 3
   },
   "file_extension": ".py",
   "mimetype": "text/x-python",
   "name": "python",
   "nbconvert_exporter": "python",
   "pygments_lexer": "ipython3",
   "version": "3.12.3"
  }
 },
 "nbformat": 4,
 "nbformat_minor": 2
}
