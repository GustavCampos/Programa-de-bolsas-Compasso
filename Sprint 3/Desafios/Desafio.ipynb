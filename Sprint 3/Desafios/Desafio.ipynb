{
 "cells": [
  {
   "cell_type": "markdown",
   "metadata": {},
   "source": [
    "# Desafio Sprint 3\n",
    "\n",
    "## Etapa 1: ambiente\n",
    "\n",
    "Nesta etapa devemos certificar que as bibliotecas **pandas** e **matplotlib** estão instaladas no ambiente atual.\n",
    "Podemos importar ambas as bibliotecas com o comando:\n",
    "```bash\n",
    "python.exe -m pip install matplotlib pandas\n",
    "```\n",
    "\n",
    "Ao longo do projeto, também serão necessárias algumas bibliotecas adicionais.\n",
    "```bash\n",
    "python.exe -m pip install tabulate\n",
    "```\n",
    "\n",
    "Portanto recomenda-se instalar os pacotes necessários lendo o arquivo [requirements.txt](requirements.txt):\n",
    "```bash\n",
    "# Rodar comando na pasta do desafio\n",
    "python.exe -m pip install -r requirements.txt\n",
    "```\n",
    "\n",
    "Podemos conferir a lista de pacotes instalados usando o comando:\n",
    "```bash\n",
    "python.exe -m pip freeze\n",
    "```\n",
    "\n",
    "## Etapa 2: desenvolvimento\n",
    "\n",
    "Funcões utilitárias:"
   ]
  },
  {
   "cell_type": "code",
   "execution_count": 16,
   "metadata": {},
   "outputs": [],
   "source": [
    "import pandas as pd # biblioteca de tratamento de dados\n",
    "from IPython.display import display, Markdown # Exibição dos dados em tabelas markdown\n",
    "\n",
    "#Nome das colunas do CSV como constantes\n",
    "APP =                  \"App\"\n",
    "CATEGORY =        \"Category\"\n",
    "RATING =            \"Rating\"\n",
    "REVIEWS =          \"Reviews\"\n",
    "SIZE =               \"Size\"\n",
    "INSTALLS =        \"Installs\"\n",
    "TYPE =                \"Type\"\n",
    "PRICE =              \"Price\"\n",
    "AGE_RANGE = \"Content Rating\"\n",
    "GENRE =            \"Genres\"\n",
    "L_UPDATE =    \"Last Updated\"\n",
    "C_VERSION =    \"Current Ver\"\n",
    "A_VERSION =    \"Android Ver\"\n",
    "\n",
    "def display_df_table(table: pd.DataFrame, show_index=True) -> None:\n",
    "    display(Markdown(table.to_markdown(index=show_index)))"
   ]
  },
  {
   "cell_type": "markdown",
   "metadata": {},
   "source": [
    "### 1. Leitura e Tratamento dos Dados de [googleplaystore.csv](./googleplaystore.csv)\n",
    "\n",
    "Como primeiro passo devemos importar os dados. "
   ]
  },
  {
   "cell_type": "code",
   "execution_count": 14,
   "metadata": {},
   "outputs": [
    {
     "data": {
      "text/markdown": [
       "| App                                            | Category       |   Rating |   Reviews | Size   | Installs   | Type   |   Price | Content Rating   | Genres       | Last Updated    | Current Ver   | Android Ver   |\n",
       "|:-----------------------------------------------|:---------------|---------:|----------:|:-------|:-----------|:-------|--------:|:-----------------|:-------------|:----------------|:--------------|:--------------|\n",
       "| Photo Editor & Candy Camera & Grid & ScrapBook | ART_AND_DESIGN |      4.1 |       159 | 19M    | 10,000+    | Free   |       0 | Everyone         | Art & Design | January 7, 2018 | 1.0.0         | 4.0.3 and up  |"
      ],
      "text/plain": [
       "<IPython.core.display.Markdown object>"
      ]
     },
     "metadata": {},
     "output_type": "display_data"
    }
   ],
   "source": [
    "# Importando arquivo csv e convertendo para objeto dataframe\n",
    "raw_dataframe = pd.read_csv(\"googleplaystore.csv\") # Caminho relativo ao path deste notebook\n",
    "\n",
    "# Mostrando primeiro registro do csv\n",
    "display_df_table(raw_dataframe.head(1), False)"
   ]
  },
  {
   "cell_type": "markdown",
   "metadata": {},
   "source": [
    "Em seguida podemos remover todos os registros duplicados"
   ]
  },
  {
   "cell_type": "code",
   "execution_count": 7,
   "metadata": {},
   "outputs": [
    {
     "name": "stdout",
     "output_type": "stream",
     "text": [
      "Número de Registros Bruto:          10841\n",
      "Número de Registros Distintos:      10358\n",
      "Número de Registros Removidos:        483\n"
     ]
    }
   ],
   "source": [
    "# Removendo duplicatas\n",
    "distinct_dataframe = raw_dataframe.drop_duplicates()\n",
    "removed_registers = (len(raw_dataframe) - len(distinct_dataframe))\n",
    "\n",
    "print(f\"Número de Registros Bruto: {len(raw_dataframe):>14}\")\n",
    "print(f\"Número de Registros Distintos: {len(distinct_dataframe):>10}\")\n",
    "print(f\"Número de Registros Removidos: {removed_registers:>10}\")"
   ]
  },
  {
   "cell_type": "markdown",
   "metadata": {},
   "source": [
    "Podemos agora analisar o formato dos dados de cada coluna e tratar/filtrar de forma mais profunda\n",
    "\n",
    "#### 1. Coluna \"App\"\n",
    "\n",
    "Observando os dados dessa coluna:"
   ]
  },
  {
   "cell_type": "code",
   "execution_count": 21,
   "metadata": {},
   "outputs": [
    {
     "data": {
      "text/markdown": [
       "|       | App                                           |\n",
       "|------:|:----------------------------------------------|\n",
       "| 10836 | Sya9a Maroc - FR                              |\n",
       "| 10837 | Fr. Mike Schmitz Audio Teachings              |\n",
       "| 10838 | Parkinson Exercices FR                        |\n",
       "| 10839 | The SCP Foundation DB fr nn5n                 |\n",
       "| 10840 | iHoroscope - 2018 Daily Horoscope & Astrology |"
      ],
      "text/plain": [
       "<IPython.core.display.Markdown object>"
      ]
     },
     "metadata": {},
     "output_type": "display_data"
    }
   ],
   "source": [
    "# Exibindo a coluna \"App\" dos primeiros 5 registros\n",
    "display_df_table(distinct_dataframe[[APP]].tail(5))"
   ]
  }
 ],
 "metadata": {
  "kernelspec": {
   "display_name": ".venv",
   "language": "python",
   "name": "python3"
  },
  "language_info": {
   "codemirror_mode": {
    "name": "ipython",
    "version": 3
   },
   "file_extension": ".py",
   "mimetype": "text/x-python",
   "name": "python",
   "nbconvert_exporter": "python",
   "pygments_lexer": "ipython3",
   "version": "3.12.3"
  }
 },
 "nbformat": 4,
 "nbformat_minor": 2
}
