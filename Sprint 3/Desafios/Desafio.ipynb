{
 "cells": [
  {
   "cell_type": "markdown",
   "metadata": {},
   "source": [
    "# Desafio Sprint 3\n",
    "\n",
    "## Etapa 1: ambiente\n",
    "\n",
    "Nesta etapa devemos certificar que as bibliotecas **pandas** e **matplotlib** estão instaladas no ambiente atual.\n",
    "Podemos importar ambas as bibliotecas com o comando:\n",
    "```bash\n",
    "python.exe -m pip install matplotlib pandas\n",
    "```\n",
    "\n",
    "Ao longo do projeto, também serão necessárias algumas bibliotecas adicionais.\n",
    "```bash\n",
    "python.exe -m pip install tabulate\n",
    "```\n",
    "\n",
    "Portanto recomenda-se instalar os pacotes necessários lendo o arquivo [requirements.txt](requirements.txt):\n",
    "```bash\n",
    "# Rodar comando na pasta do desafio\n",
    "python.exe -m pip install -r requirements.txt\n",
    "```\n",
    "\n",
    "Podemos conferir a lista de pacotes instalados usando o comando:\n",
    "```bash\n",
    "python.exe -m pip freeze\n",
    "```\n",
    "\n",
    "## Etapa 2: desenvolvimento\n",
    "\n",
    "Funcões utilitárias:"
   ]
  },
  {
   "cell_type": "code",
   "execution_count": 109,
   "metadata": {},
   "outputs": [],
   "source": [
    "import pandas as pd # biblioteca de tratamento de dados\n",
    "from IPython.display import display, Markdown # Exibição dos dados em tabelas markdown\n",
    "from random import randint  # Funcao para gerar numeros aleatorios\n",
    "import re as regex\n",
    "\n",
    "#Nome das colunas do CSV como constantes\n",
    "APP =                  \"App\"\n",
    "CATEGORY =        \"Category\"\n",
    "RATING =            \"Rating\"\n",
    "REVIEWS =          \"Reviews\"\n",
    "SIZE =               \"Size\"\n",
    "INSTALLS =        \"Installs\"\n",
    "TYPE =                \"Type\"\n",
    "PRICE =              \"Price\"\n",
    "AGE_RANGE = \"Content Rating\"\n",
    "GENRE =            \"Genres\"\n",
    "L_UPDATE =    \"Last Updated\"\n",
    "C_VERSION =    \"Current Ver\"\n",
    "A_VERSION =    \"Android Ver\"\n",
    "\n",
    "def display_df_table(table: pd.DataFrame, show_index=True) -> None:\n",
    "    display(Markdown(table.to_markdown(index=show_index)))"
   ]
  },
  {
   "cell_type": "markdown",
   "metadata": {},
   "source": [
    "### 1. Leitura e Tratamento dos Dados de [googleplaystore.csv](./googleplaystore.csv)\n",
    "\n",
    "Como primeiro passo devemos importar os dados. "
   ]
  },
  {
   "cell_type": "code",
   "execution_count": 110,
   "metadata": {},
   "outputs": [
    {
     "data": {
      "text/markdown": [
       "| App                                            | Category       |   Rating |   Reviews | Size   | Installs   | Type   |   Price | Content Rating   | Genres       | Last Updated    | Current Ver   | Android Ver   |\n",
       "|:-----------------------------------------------|:---------------|---------:|----------:|:-------|:-----------|:-------|--------:|:-----------------|:-------------|:----------------|:--------------|:--------------|\n",
       "| Photo Editor & Candy Camera & Grid & ScrapBook | ART_AND_DESIGN |      4.1 |       159 | 19M    | 10,000+    | Free   |       0 | Everyone         | Art & Design | January 7, 2018 | 1.0.0         | 4.0.3 and up  |"
      ],
      "text/plain": [
       "<IPython.core.display.Markdown object>"
      ]
     },
     "metadata": {},
     "output_type": "display_data"
    }
   ],
   "source": [
    "# Importando arquivo csv e convertendo para objeto dataframe\n",
    "raw_dataframe = pd.read_csv(\"googleplaystore.csv\") # Caminho relativo ao path deste notebook\n",
    "\n",
    "# Mostrando primeiro registro do csv\n",
    "display_df_table(raw_dataframe.head(1), False)"
   ]
  },
  {
   "cell_type": "markdown",
   "metadata": {},
   "source": [
    "Em seguida podemos remover todos os registros duplicados"
   ]
  },
  {
   "cell_type": "code",
   "execution_count": 111,
   "metadata": {},
   "outputs": [
    {
     "name": "stdout",
     "output_type": "stream",
     "text": [
      "Número de Registros Bruto:          10841\n",
      "Número de Registros Distintos:      10358\n",
      "Número de Registros Removidos:        483\n"
     ]
    }
   ],
   "source": [
    "# Removendo duplicatas\n",
    "distinct_dataframe = raw_dataframe.drop_duplicates()\n",
    "removed_registers = (len(raw_dataframe) - len(distinct_dataframe))\n",
    "\n",
    "print(f\"Número de Registros Bruto: {len(raw_dataframe):>14}\")\n",
    "print(f\"Número de Registros Distintos: {len(distinct_dataframe):>10}\")\n",
    "print(f\"Número de Registros Removidos: {removed_registers:>10}\")"
   ]
  },
  {
   "cell_type": "markdown",
   "metadata": {},
   "source": [
    "Podemos agora analisar o formato dos dados de cada coluna e tratar/filtrar de forma mais profunda\n",
    "\n",
    "#### 1. Coluna \"App\"\n",
    "\n",
    "Vamos observar os dados dessa coluna:"
   ]
  },
  {
   "cell_type": "code",
   "execution_count": 112,
   "metadata": {},
   "outputs": [
    {
     "data": {
      "text/markdown": [
       "|      | App                                            |\n",
       "|-----:|:-----------------------------------------------|\n",
       "|    0 | Photo Editor & Candy Camera & Grid & ScrapBook |\n",
       "|  958 | Netflix                                        |\n",
       "| 1885 | Pou                                            |\n",
       "| 2851 | Beauty Makeup – Photo Makeover                 |\n",
       "| 3762 | BeyondPod Podcast Manager                      |\n",
       "| 4625 | T. Rowe Price Personal® App                    |\n",
       "| 5460 | AP Installer                                   |\n",
       "| 6297 | Zalo – Video Call                              |\n",
       "| 7141 | CB Land                                        |\n",
       "| 7977 | CV Builder for Smart Resumes                   |"
      ],
      "text/plain": [
       "<IPython.core.display.Markdown object>"
      ]
     },
     "metadata": {},
     "output_type": "display_data"
    }
   ],
   "source": [
    "# Exibindo 10 registros variados da coluna \"App\"\n",
    "display_df_table(distinct_dataframe[::randint(700, 1000)][APP].head(10))\n",
    "# Este bloco pode ser executado diversas vezes para ter maior noção dos dados"
   ]
  },
  {
   "cell_type": "markdown",
   "metadata": {},
   "source": [
    "Podemos notar que nesta coluna praticamente tem um pouco de tudo. \n",
    "Como o nome do aplicativo é uma informação muito importante para sua identificação, vamos apenas checar se a coluna possue algum valor nulo."
   ]
  },
  {
   "cell_type": "code",
   "execution_count": 113,
   "metadata": {},
   "outputs": [
    {
     "name": "stdout",
     "output_type": "stream",
     "text": [
      "Valores nulos na coluna App: 0\n"
     ]
    }
   ],
   "source": [
    "# Conta quantos valores em \"App\" sao nulos\n",
    "missing_count = distinct_dataframe[APP].isnull().sum()\n",
    "\n",
    "print(f\"Valores nulos na coluna {APP}: {missing_count}\")\n"
   ]
  },
  {
   "cell_type": "markdown",
   "metadata": {},
   "source": [
    "O arquivo não contém nenhum valor nulo na coluna \"App\", portanto não precisamos realizar nenhum tratamento.\n",
    "\n",
    "#### 2. Coluna \"Category\"\n",
    "\n",
    "Vamos observar os dados desta coluna:"
   ]
  },
  {
   "cell_type": "code",
   "execution_count": 139,
   "metadata": {},
   "outputs": [
    {
     "data": {
      "text/markdown": [
       "|      | Category         |\n",
       "|-----:|:-----------------|\n",
       "|    0 | ART_AND_DESIGN   |\n",
       "| 1078 | FINANCE          |\n",
       "| 2093 | FAMILY           |\n",
       "| 3195 | TRAVEL_AND_LOCAL |\n",
       "| 4172 | TOOLS            |\n",
       "| 5105 | BUSINESS         |\n",
       "| 6039 | TOOLS            |\n",
       "| 6977 | SPORTS           |\n",
       "| 7911 | FINANCE          |\n",
       "| 8851 | LIFESTYLE        |"
      ],
      "text/plain": [
       "<IPython.core.display.Markdown object>"
      ]
     },
     "metadata": {},
     "output_type": "display_data"
    }
   ],
   "source": [
    "# Exibindo 10 registros variados da coluna \"Category\"\n",
    "display_df_table(distinct_dataframe[::randint(700, 1000)][CATEGORY].head(10))\n",
    "# Este bloco pode ser executado diversas vezes para ter maior noção dos dados"
   ]
  },
  {
   "cell_type": "markdown",
   "metadata": {},
   "source": [
    "Podemos notar que o formato padrão para esta coluna são palavras em letras maíuscula separadas por *underline*.\n",
    "Vamos filtrar os registros que não seguem esta regra:"
   ]
  },
  {
   "cell_type": "code",
   "execution_count": 138,
   "metadata": {},
   "outputs": [
    {
     "name": "stdout",
     "output_type": "stream",
     "text": [
      "Número de Registros Bruto:          10358\n",
      "Número de Registros Válidos:        10357\n",
      "Número de Registros Removidos:          1\n"
     ]
    }
   ],
   "source": [
    "# Expressão regular que checa letras maíusculas e underline\n",
    "category_pattern = r\"[A-Z_]\"\n",
    "\n",
    "# Cria um objeto Series com valores True|False que serve como máscara de busca \n",
    "category_mask = distinct_dataframe[CATEGORY].str.match(category_pattern)\n",
    "\n",
    "# Usa máscara criada para filtrar as linhas com \"Category\" válidas\n",
    "valid_category_dataframe = distinct_dataframe[category_mask]\n",
    "\n",
    "removed_registers = (len(distinct_dataframe) - len(valid_category_dataframe))\n",
    "\n",
    "print(f\"Número de Registros Bruto: {len(distinct_dataframe):>14}\")\n",
    "print(f\"Número de Registros Válidos: {len(valid_category_dataframe):>12}\")\n",
    "print(f\"Número de Registros Removidos: {removed_registers:>10}\")"
   ]
  }
 ],
 "metadata": {
  "kernelspec": {
   "display_name": ".venv",
   "language": "python",
   "name": "python3"
  },
  "language_info": {
   "codemirror_mode": {
    "name": "ipython",
    "version": 3
   },
   "file_extension": ".py",
   "mimetype": "text/x-python",
   "name": "python",
   "nbconvert_exporter": "python",
   "pygments_lexer": "ipython3",
   "version": "3.12.3"
  }
 },
 "nbformat": 4,
 "nbformat_minor": 2
}
