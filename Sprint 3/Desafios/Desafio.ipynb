{
 "cells": [
  {
   "cell_type": "markdown",
   "metadata": {},
   "source": [
    "# Desafio Sprint 3\n",
    "\n",
    "## Etapa 1: ambiente\n",
    "\n",
    "Nesta etapa devemos certificar que as bibliotecas **pandas** e **matplotlib** estão instaladas no ambiente atual.\n",
    "Podemos importar ambas as bibliotecas com o comando:\n",
    "```bash\n",
    "python.exe -m pip install matplotlib pandas\n",
    "```\n",
    "\n",
    "Ao longo do projeto, também serão necessárias algumas bibliotecas adicionais.\n",
    "```bash\n",
    "python.exe -m pip install tabulate\n",
    "```\n",
    "\n",
    "Portanto recomenda-se instalar os pacotes necessários lendo o arquivo [requirements.txt](requirements.txt):\n",
    "```bash\n",
    "# Rodar comando na pasta do desafio\n",
    "python.exe -m pip install -r requirements.txt\n",
    "```\n",
    "\n",
    "Podemos conferir a lista de pacotes instalados usando o comando:\n",
    "```bash\n",
    "python.exe -m pip freeze\n",
    "```\n",
    "\n",
    "## Etapa 2: desenvolvimento\n",
    "\n",
    "Funcões utilitárias:"
   ]
  },
  {
   "cell_type": "code",
   "execution_count": 1,
   "metadata": {},
   "outputs": [],
   "source": [
    "import pandas as pd # biblioteca de tratamento de dados\n",
    "from IPython.display import display, Markdown # Exibição dos dados em tabelas markdown\n",
    "from random import randint  # Funcao para gerar numeros aleatorios\n",
    "\n",
    "#Nome das colunas do CSV como constantes\n",
    "APP =                  \"App\"\n",
    "CATEGORY =        \"Category\"\n",
    "RATING =            \"Rating\"\n",
    "REVIEWS =          \"Reviews\"\n",
    "SIZE =               \"Size\"\n",
    "INSTALLS =        \"Installs\"\n",
    "TYPE =                \"Type\"\n",
    "PRICE =              \"Price\"\n",
    "AGE_RANGE = \"Content Rating\"\n",
    "GENRE =            \"Genres\"\n",
    "L_UPDATE =    \"Last Updated\"\n",
    "C_VERSION =    \"Current Ver\"\n",
    "A_VERSION =    \"Android Ver\"\n",
    "\n",
    "# Funcao para exibir dataframes como tabelas markdown no notebook\n",
    "def display_df_table(table: pd.DataFrame, show_index=True) -> None:\n",
    "    display(Markdown(table.to_markdown(index=show_index)))"
   ]
  },
  {
   "cell_type": "markdown",
   "metadata": {},
   "source": [
    "### 1. Leitura e Tratamento dos Dados de [googleplaystore.csv](./googleplaystore.csv)\n",
    "\n",
    "Como primeiro passo devemos importar os dados. "
   ]
  },
  {
   "cell_type": "code",
   "execution_count": 2,
   "metadata": {},
   "outputs": [
    {
     "data": {
      "text/markdown": [
       "| App                                            | Category       |   Rating |   Reviews | Size   | Installs   | Type   |   Price | Content Rating   | Genres       | Last Updated    | Current Ver   | Android Ver   |\n",
       "|:-----------------------------------------------|:---------------|---------:|----------:|:-------|:-----------|:-------|--------:|:-----------------|:-------------|:----------------|:--------------|:--------------|\n",
       "| Photo Editor & Candy Camera & Grid & ScrapBook | ART_AND_DESIGN |      4.1 |       159 | 19M    | 10,000+    | Free   |       0 | Everyone         | Art & Design | January 7, 2018 | 1.0.0         | 4.0.3 and up  |"
      ],
      "text/plain": [
       "<IPython.core.display.Markdown object>"
      ]
     },
     "metadata": {},
     "output_type": "display_data"
    }
   ],
   "source": [
    "# Importando arquivo csv e convertendo para objeto dataframe\n",
    "raw_dataframe = pd.read_csv(\"googleplaystore.csv\") # Caminho relativo ao path deste notebook\n",
    "\n",
    "# Mostrando primeiro registro do csv\n",
    "display_df_table(raw_dataframe.head(1), False)"
   ]
  },
  {
   "cell_type": "markdown",
   "metadata": {},
   "source": [
    "Em seguida podemos remover todos os registros duplicados"
   ]
  },
  {
   "cell_type": "code",
   "execution_count": 3,
   "metadata": {},
   "outputs": [
    {
     "name": "stdout",
     "output_type": "stream",
     "text": [
      "Número de Registros Bruto:          10841\n",
      "Número de Registros Distintos:      10358\n",
      "Número de Registros Removidos:        483\n"
     ]
    }
   ],
   "source": [
    "# Removendo duplicatas\n",
    "distinct_dataframe = raw_dataframe.drop_duplicates()\n",
    "removed_registers = (len(raw_dataframe) - len(distinct_dataframe))\n",
    "\n",
    "print(f\"Número de Registros Bruto: {len(raw_dataframe):>14}\")\n",
    "print(f\"Número de Registros Distintos: {len(distinct_dataframe):>10}\")\n",
    "print(f\"Número de Registros Removidos: {removed_registers:>10}\")"
   ]
  },
  {
   "cell_type": "markdown",
   "metadata": {},
   "source": [
    "Podemos agora analisar o formato dos dados de cada coluna e tratar/filtrar de forma mais profunda\n",
    "\n",
    "#### 1. Coluna \"App\"\n",
    "\n",
    "Vamos observar os dados dessa coluna:"
   ]
  },
  {
   "cell_type": "code",
   "execution_count": 4,
   "metadata": {},
   "outputs": [
    {
     "data": {
      "text/markdown": [
       "|      | App                                            |\n",
       "|-----:|:-----------------------------------------------|\n",
       "|    0 | Photo Editor & Candy Camera & Grid & ScrapBook |\n",
       "|  827 | Lerni. Learn languages.                        |\n",
       "| 1661 | Temple Run 2                                   |\n",
       "| 2462 | WAH 247                                        |\n",
       "| 3324 | TunnelBear VPN                                 |\n",
       "| 4083 | Amazon Kindle                                  |\n",
       "| 4817 | War Z 2                                        |\n",
       "| 5546 | Stack It AR                                    |\n",
       "| 6275 | BI APP                                         |\n",
       "| 7010 | Pixyfy: coloring by number coloring book       |"
      ],
      "text/plain": [
       "<IPython.core.display.Markdown object>"
      ]
     },
     "metadata": {},
     "output_type": "display_data"
    }
   ],
   "source": [
    "# Exibindo 10 registros variados da coluna \"App\"\n",
    "display_df_table(distinct_dataframe[::randint(700, 1000)][APP].head(10))\n",
    "# Este bloco pode ser executado diversas vezes para ter maior noção dos dados"
   ]
  },
  {
   "cell_type": "markdown",
   "metadata": {},
   "source": [
    "Podemos notar que nesta coluna praticamente tem um pouco de tudo. \n",
    "\n",
    "Como o nome do aplicativo é uma informação muito importante para sua identificação, vamos apenas checar se a coluna possuí algum valor nulo."
   ]
  },
  {
   "cell_type": "code",
   "execution_count": 158,
   "metadata": {},
   "outputs": [
    {
     "name": "stdout",
     "output_type": "stream",
     "text": [
      "Valores nulos na coluna App:                      0\n",
      "Porcentagem de valores nulos na coluna App:   0.00%\n"
     ]
    }
   ],
   "source": [
    "# Conta quantos valores em \"App\" sao nulos\n",
    "app_missing_count = distinct_dataframe[APP].isnull().sum()\n",
    "null_app_percent = (app_missing_count / len(distinct_dataframe)) * 100\n",
    "\n",
    "\n",
    "print(f\"Valores nulos na coluna {APP}: {app_missing_count:>22}\")\n",
    "print(f\"Porcentagem de valores nulos na coluna {APP}: {null_app_percent:>6.2f}%\")\n"
   ]
  },
  {
   "cell_type": "markdown",
   "metadata": {},
   "source": [
    "O arquivo não contém nenhum valor nulo na coluna \"App\", portanto não precisamos realizar nenhum tratamento.\n",
    "\n",
    "#### 2. Coluna \"Category\"\n",
    "\n",
    "Vamos observar os dados dessa coluna:"
   ]
  },
  {
   "cell_type": "code",
   "execution_count": 6,
   "metadata": {},
   "outputs": [
    {
     "data": {
      "text/markdown": [
       "|      | Category           |\n",
       "|-----:|:-------------------|\n",
       "|    0 | ART_AND_DESIGN     |\n",
       "|  969 | ENTERTAINMENT      |\n",
       "| 1889 | GAME               |\n",
       "| 2858 | PHOTOGRAPHY        |\n",
       "| 3772 | NEWS_AND_MAGAZINES |\n",
       "| 4635 | FAMILY             |\n",
       "| 5472 | FAMILY             |\n",
       "| 6311 | GAME               |\n",
       "| 7157 | NEWS_AND_MAGAZINES |\n",
       "| 7995 | GAME               |"
      ],
      "text/plain": [
       "<IPython.core.display.Markdown object>"
      ]
     },
     "metadata": {},
     "output_type": "display_data"
    }
   ],
   "source": [
    "# Exibindo 10 registros variados da coluna \"Category\"\n",
    "display_df_table(distinct_dataframe[::randint(700, 1000)][CATEGORY].head(10))\n",
    "# Este bloco pode ser executado diversas vezes para ter maior noção dos dados"
   ]
  },
  {
   "cell_type": "markdown",
   "metadata": {},
   "source": [
    "Podemos notar que o formato padrão para esta coluna são palavras em letras maíuscula separadas por *underline*.\n",
    "Vamos filtrar os registros que não seguem esta regra:"
   ]
  },
  {
   "cell_type": "code",
   "execution_count": 7,
   "metadata": {},
   "outputs": [
    {
     "name": "stdout",
     "output_type": "stream",
     "text": [
      "Número de Registros Bruto:          10358\n",
      "Número de Registros Válidos:        10357\n",
      "Número de Registros Removidos:          1\n"
     ]
    }
   ],
   "source": [
    "# Expressão regular que checa letras maíusculas e underline\n",
    "category_pattern = r\"[A-Z_]\"\n",
    "\n",
    "# Cria um objeto Series com valores True|False que serve como máscara de busca \n",
    "category_mask = distinct_dataframe[CATEGORY].str.match(category_pattern)\n",
    "\n",
    "# Usa máscara criada para filtrar as linhas com \"Category\" válidas\n",
    "valid_category_dataframe = distinct_dataframe[category_mask]\n",
    "\n",
    "removed_registers = (len(distinct_dataframe) - len(valid_category_dataframe))\n",
    "\n",
    "print(f\"Número de Registros Bruto: {len(distinct_dataframe):>14}\")\n",
    "print(f\"Número de Registros Válidos: {len(valid_category_dataframe):>12}\")\n",
    "print(f\"Número de Registros Removidos: {removed_registers:>10}\")"
   ]
  },
  {
   "cell_type": "markdown",
   "metadata": {},
   "source": [
    "#### 3. Coluna \"Rating\"\n",
    "\n",
    "Esta coluna representa a avaliação de um aplicativo. Como indicado pelas [políticas de avaliação](https://play.google/intl/pt-BR/comment-posting-policy/) da plataforma, a avaliação de um aplicativo é um valor entre 1 e 5 que representa a média de avaliações dos usuários da ultima versão do aplicativo (campo \"Current Ver\").\n",
    "\n",
    "Vamos verificar a quantidade de valores fora do range 1-5 e também quantos valores nulos temos:\n"
   ]
  },
  {
   "cell_type": "code",
   "execution_count": 160,
   "metadata": {},
   "outputs": [
    {
     "name": "stdout",
     "output_type": "stream",
     "text": [
      "Valores fora do range válido em Rating:              0\n",
      "Valores nulos na coluna Rating:                   1465\n",
      "Porcentagem de valores nulos na coluna Rating:  14.15%\n"
     ]
    }
   ],
   "source": [
    "out_of_range_rating_dataframe = valid_category_dataframe[\n",
    "    # Seleciona apenas registros com Rating fora do range 1-5\n",
    "    (valid_category_dataframe[RATING] < 1) | (valid_category_dataframe[RATING] > 5)\n",
    "]\n",
    "\n",
    "rating_missing_count = valid_category_dataframe[RATING].isnull().sum()\n",
    "null_rating_percent = (rating_missing_count / len(valid_category_dataframe)) * 100\n",
    "\n",
    "print(f\"Valores fora do range válido em {RATING}: {len(out_of_range_rating_dataframe):>14}\")\n",
    "print(f\"Valores nulos na coluna {RATING}: {rating_missing_count:>22}\")\n",
    "print(f\"Porcentagem de valores nulos na coluna {RATING}: {null_rating_percent:>6.2f}%\")"
   ]
  },
  {
   "cell_type": "markdown",
   "metadata": {},
   "source": [
    "Não temos números fora do range estabelecido para serem removidos.\n",
    "\n",
    "Como a quantidade de valores nulos em \"Rating\" representa uma parcela considerável dos valores e provavelmente indica que o aplicativo não possui avaliações em quantidade suficiente, é preferível mantê-los para aumentar a quantidade de registros disponíveis para análise de outros fatores.\n",
    "\n",
    "#### 4. Coluna \"Reviews\n",
    "\n",
    "Seguindo a [políticas de avaliação](https://play.google/intl/pt-BR/comment-posting-policy/) da plataforma, podemos assumir que este campos representa a quantidade total de avaliações que um aplicativo possui\n",
    "\n",
    "Vamos verificar valores inválidos, podemos considerar inválido qualquer valor fora do conjunto $\\mathbb{N}_0$:"
   ]
  },
  {
   "cell_type": "code",
   "execution_count": 194,
   "metadata": {},
   "outputs": [
    {
     "name": "stdout",
     "output_type": "stream",
     "text": [
      "Valores inválidos na coluna Reviews:                      0\n",
      "Porcentagem de valores inválidos na coluna Reviews:   0.00%\n"
     ]
    }
   ],
   "source": [
    "# Quantidade de valores nulos na coluna \"Reviews\"\n",
    "reviews_missing_count = valid_category_dataframe[REVIEWS].isnull().sum()\n",
    "\n",
    "# Mascara que valida apenas valores inteiros\n",
    "reviews_int_mask = valid_category_dataframe[REVIEWS].apply(lambda n: int(n) == float(n))\n",
    "\n",
    "# Mascara que valida apenas valores positivos\n",
    "reviews_unsigned_mask = valid_category_dataframe[REVIEWS].apply(lambda n: int(n) >= 0)\n",
    "\n",
    "# Usa as mascaras criadas para retornar apenas os valores invalidos\n",
    "reviews_invalid_count = valid_category_dataframe[REVIEWS][~reviews_int_mask | ~reviews_unsigned_mask].sum()\n",
    "\n",
    "reviews_remove_count = reviews_missing_count + reviews_invalid_count\n",
    "remove_reviews_percent = (reviews_invalid_count / len(valid_category_dataframe)) * 100\n",
    "\n",
    "\n",
    "print(f\"Valores inválidos na coluna {REVIEWS}: {reviews_remove_count:>22}\")\n",
    "print(f\"Porcentagem de valores inválidos na coluna {REVIEWS}: {remove_reviews_percent:>6.2f}%\")"
   ]
  },
  {
   "cell_type": "markdown",
   "metadata": {},
   "source": [
    "Não temos valores inválidos nesta coluna\n",
    "\n",
    "#### 5. Coluna \"Size\""
   ]
  }
 ],
 "metadata": {
  "kernelspec": {
   "display_name": ".venv",
   "language": "python",
   "name": "python3"
  },
  "language_info": {
   "codemirror_mode": {
    "name": "ipython",
    "version": 3
   },
   "file_extension": ".py",
   "mimetype": "text/x-python",
   "name": "python",
   "nbconvert_exporter": "python",
   "pygments_lexer": "ipython3",
   "version": "3.12.3"
  }
 },
 "nbformat": 4,
 "nbformat_minor": 2
}
