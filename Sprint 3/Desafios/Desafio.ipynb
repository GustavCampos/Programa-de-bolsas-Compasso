{
 "cells": [
  {
   "cell_type": "markdown",
   "metadata": {},
   "source": [
    "# Desafio Sprint 3"
   ]
  },
  {
   "cell_type": "markdown",
   "metadata": {},
   "source": [
    "## Etapa 1: ambiente"
   ]
  },
  {
   "cell_type": "markdown",
   "metadata": {},
   "source": [
    "Nesta etapa devemos certificar que as bibliotecas **pandas** e **matplotlib** estão instaladas no ambiente atual.\n",
    "Podemos importar ambas as bibliotecas com o comando:\n",
    "```bash\n",
    "python.exe -m pip install matplotlib pandas\n",
    "```\n",
    "\n",
    "Ao longo do projeto, também serão necessárias algumas bibliotecas adicionais.\n",
    "```bash\n",
    "python.exe -m pip install tabulate\n",
    "```\n",
    "\n",
    "Portanto recomenda-se instalar os pacotes necessários lendo o arquivo [requirements.txt](requirements.txt):\n",
    "```bash\n",
    "# Rodar comando na pasta do desafio\n",
    "python.exe -m pip install -r requirements.txt\n",
    "```\n",
    "\n",
    "Podemos conferir a lista de pacotes instalados usando o comando:\n",
    "```bash\n",
    "python.exe -m pip freeze\n",
    "```"
   ]
  },
  {
   "cell_type": "markdown",
   "metadata": {},
   "source": [
    "## Etapa 2: desenvolvimento\n",
    "\n",
    "Funcões utilitárias:"
   ]
  },
  {
   "cell_type": "code",
   "execution_count": 245,
   "metadata": {},
   "outputs": [],
   "source": [
    "import pandas as pd # biblioteca de tratamento de dados\n",
    "from IPython.display import display, Markdown # Exibição dos dados em tabelas markdown\n",
    "from random import randint  # Funcao para gerar numeros aleatorios\n",
    "from matplotlib import pyplot as plt # Biblioteca para plotar graficos\n",
    "\n",
    "#Nome das colunas do CSV como constantes\n",
    "APP =                  \"App\"\n",
    "CATEGORY =        \"Category\"\n",
    "RATING =            \"Rating\"\n",
    "REVIEWS =          \"Reviews\"\n",
    "SIZE =               \"Size\"\n",
    "INSTALLS =        \"Installs\"\n",
    "TYPE =                \"Type\"\n",
    "PRICE =              \"Price\"\n",
    "AGE_RANGE = \"Content Rating\"\n",
    "GENRE =            \"Genres\"\n",
    "L_UPDATE =    \"Last Updated\"\n",
    "C_VERSION =    \"Current Ver\"\n",
    "A_VERSION =    \"Android Ver\"\n",
    "\n",
    "# Funcao para exibir dataframes como tabelas markdown no notebook\n",
    "def display_df_table(table: pd.DataFrame, show_index=True) -> None:\n",
    "    display(Markdown(table.to_markdown(index=show_index)))"
   ]
  },
  {
   "cell_type": "markdown",
   "metadata": {},
   "source": [
    "### 1. Leitura e Tratamento dos Dados de [googleplaystore.csv](./googleplaystore.csv)\n",
    "\n",
    "Como primeiro passo devemos importar os dados. "
   ]
  },
  {
   "cell_type": "code",
   "execution_count": 246,
   "metadata": {},
   "outputs": [
    {
     "data": {
      "text/markdown": [
       "| App                                            | Category       |   Rating |   Reviews | Size   | Installs   | Type   |   Price | Content Rating   | Genres       | Last Updated    | Current Ver   | Android Ver   |\n",
       "|:-----------------------------------------------|:---------------|---------:|----------:|:-------|:-----------|:-------|--------:|:-----------------|:-------------|:----------------|:--------------|:--------------|\n",
       "| Photo Editor & Candy Camera & Grid & ScrapBook | ART_AND_DESIGN |      4.1 |       159 | 19M    | 10,000+    | Free   |       0 | Everyone         | Art & Design | January 7, 2018 | 1.0.0         | 4.0.3 and up  |"
      ],
      "text/plain": [
       "<IPython.core.display.Markdown object>"
      ]
     },
     "metadata": {},
     "output_type": "display_data"
    }
   ],
   "source": [
    "# Importando arquivo csv e convertendo para objeto dataframe\n",
    "raw_dataframe = pd.read_csv(\"googleplaystore.csv\") # Caminho relativo ao path deste notebook\n",
    "\n",
    "# Mostrando primeiro registro do csv\n",
    "display_df_table(raw_dataframe.head(1), False)"
   ]
  },
  {
   "cell_type": "markdown",
   "metadata": {},
   "source": [
    "Em seguida podemos remover todos os registros duplicados"
   ]
  },
  {
   "cell_type": "code",
   "execution_count": 247,
   "metadata": {},
   "outputs": [
    {
     "name": "stdout",
     "output_type": "stream",
     "text": [
      "Número de Registros Bruto:          10841\n",
      "Número de Registros Distintos:      10358\n",
      "Número de Registros Removidos:        483\n"
     ]
    }
   ],
   "source": [
    "# Removendo duplicatas\n",
    "distinct_dataframe = raw_dataframe.drop_duplicates()\n",
    "removed_registers = (len(raw_dataframe) - len(distinct_dataframe))\n",
    "\n",
    "print(f\"Número de Registros Bruto: {len(raw_dataframe):>14}\")\n",
    "print(f\"Número de Registros Distintos: {len(distinct_dataframe):>10}\")\n",
    "print(f\"Número de Registros Removidos: {removed_registers:>10}\")"
   ]
  },
  {
   "cell_type": "markdown",
   "metadata": {},
   "source": [
    "Podemos agora analisar o formato dos dados de cada coluna e tratar/filtrar de forma mais profunda"
   ]
  },
  {
   "cell_type": "markdown",
   "metadata": {},
   "source": [
    "#### 1. Coluna \"App\"\n",
    "\n",
    "Vamos observar os dados dessa coluna:"
   ]
  },
  {
   "cell_type": "code",
   "execution_count": 248,
   "metadata": {},
   "outputs": [
    {
     "data": {
      "text/markdown": [
       "|      | App                                               |\n",
       "|-----:|:--------------------------------------------------|\n",
       "|    0 | Photo Editor & Candy Camera & Grid & ScrapBook    |\n",
       "| 1010 | DroidAdmin for Android - Advice                   |\n",
       "| 1946 | Zombie Hunter: Post Apocalypse Survival Games     |\n",
       "| 2946 | Pixgram- video photo slideshow                    |\n",
       "| 3893 | 4 in a Row                                        |\n",
       "| 4765 | The X-Files: Deep State - Hidden Object Adventure |\n",
       "| 5629 | Rivals at War: Firefight                          |\n",
       "| 6493 | BAMMS for BM SQ                                   |\n",
       "| 7365 | ricardo.ch                                        |\n",
       "| 8229 | DB Event App                                      |"
      ],
      "text/plain": [
       "<IPython.core.display.Markdown object>"
      ]
     },
     "metadata": {},
     "output_type": "display_data"
    }
   ],
   "source": [
    "# Exibindo 10 registros variados da coluna \"App\"\n",
    "display_df_table(distinct_dataframe[::randint(700, 1000)][APP].head(10))\n",
    "# Este bloco pode ser executado diversas vezes para ter maior noção dos dados"
   ]
  },
  {
   "cell_type": "markdown",
   "metadata": {},
   "source": [
    "Podemos notar que nesta coluna praticamente tem um pouco de tudo. \n",
    "\n",
    "Como o nome do aplicativo é uma informação muito importante para sua identificação, vamos apenas checar se a coluna possuí algum valor nulo."
   ]
  },
  {
   "cell_type": "code",
   "execution_count": 249,
   "metadata": {},
   "outputs": [
    {
     "name": "stdout",
     "output_type": "stream",
     "text": [
      "Valores nulos na coluna App:                      0\n",
      "Porcentagem de valores nulos na coluna App:   0.00%\n"
     ]
    }
   ],
   "source": [
    "# Conta quantos valores em \"App\" sao nulos\n",
    "app_missing_count = distinct_dataframe[APP].isnull().sum()\n",
    "null_app_percent = (app_missing_count / len(distinct_dataframe)) * 100\n",
    "\n",
    "\n",
    "print(f\"Valores nulos na coluna {APP}: {app_missing_count:>22}\")\n",
    "print(f\"Porcentagem de valores nulos na coluna {APP}: {null_app_percent:>6.2f}%\")\n"
   ]
  },
  {
   "cell_type": "markdown",
   "metadata": {},
   "source": [
    "O arquivo não contém nenhum valor nulo na coluna \"App\", portanto não precisamos realizar nenhum tratamento."
   ]
  },
  {
   "cell_type": "code",
   "execution_count": 250,
   "metadata": {},
   "outputs": [],
   "source": [
    "# Troca de nomeclatura para indicar coluna validada\n",
    "valid_app_dataframe = distinct_dataframe"
   ]
  },
  {
   "cell_type": "markdown",
   "metadata": {},
   "source": [
    "#### 2. Coluna \"Category\"\n",
    "\n",
    "Vamos observar os dados dessa coluna:"
   ]
  },
  {
   "cell_type": "code",
   "execution_count": 251,
   "metadata": {},
   "outputs": [
    {
     "data": {
      "text/markdown": [
       "|      | Category       |\n",
       "|-----:|:---------------|\n",
       "|    0 | ART_AND_DESIGN |\n",
       "| 1029 | EVENTS         |\n",
       "| 1990 | GAME           |\n",
       "| 3005 | SPORTS         |\n",
       "| 3970 | MEDICAL        |\n",
       "| 4860 | FAMILY         |\n",
       "| 5743 | GAME           |\n",
       "| 6633 | COMMUNICATION  |\n",
       "| 7517 | TOOLS          |\n",
       "| 8400 | GAME           |"
      ],
      "text/plain": [
       "<IPython.core.display.Markdown object>"
      ]
     },
     "metadata": {},
     "output_type": "display_data"
    }
   ],
   "source": [
    "# Exibindo 10 registros variados da coluna \"Category\"\n",
    "display_df_table(distinct_dataframe[::randint(700, 1000)][CATEGORY].head(10))\n",
    "# Este bloco pode ser executado diversas vezes para ter maior noção dos dados"
   ]
  },
  {
   "cell_type": "markdown",
   "metadata": {},
   "source": [
    "Podemos notar que o formato padrão para esta coluna são palavras em letras maíuscula separadas por *underline*.\n",
    "Vamos filtrar os registros que não seguem esta regra:"
   ]
  },
  {
   "cell_type": "code",
   "execution_count": 252,
   "metadata": {},
   "outputs": [
    {
     "name": "stdout",
     "output_type": "stream",
     "text": [
      "Número de Registros Bruto:          10358\n",
      "Número de Registros Válidos:        10357\n",
      "Número de Registros Removidos:          1\n"
     ]
    }
   ],
   "source": [
    "# Expressão regular que checa letras maíusculas e underline\n",
    "category_pattern = r\"[A-Z_]\"\n",
    "\n",
    "# Cria um objeto Series com valores True|False que serve como máscara de busca \n",
    "category_mask = valid_app_dataframe[CATEGORY].str.match(category_pattern)\n",
    "\n",
    "# Usa máscara criada para filtrar as linhas com \"Category\" válidas\n",
    "valid_category_dataframe = valid_app_dataframe[category_mask]\n",
    "\n",
    "removed_registers = (len(valid_app_dataframe) - len(valid_category_dataframe))\n",
    "\n",
    "print(f\"Número de Registros Bruto: {len(distinct_dataframe):>14}\")\n",
    "print(f\"Número de Registros Válidos: {len(valid_category_dataframe):>12}\")\n",
    "print(f\"Número de Registros Removidos: {removed_registers:>10}\")"
   ]
  },
  {
   "cell_type": "markdown",
   "metadata": {},
   "source": [
    "#### 3. Coluna \"Rating\"\n",
    "\n",
    "Esta coluna representa a avaliação de um aplicativo. Como indicado pelas [políticas de avaliação](https://play.google/intl/pt-BR/comment-posting-policy/) da plataforma, a avaliação de um aplicativo é um valor entre 1 e 5 que representa a média de avaliações dos usuários da ultima versão do aplicativo (campo \"Current Ver\").\n",
    "\n",
    "Vamos verificar a quantidade de valores fora do range 1-5 e também quantos valores nulos temos:\n"
   ]
  },
  {
   "cell_type": "code",
   "execution_count": 253,
   "metadata": {},
   "outputs": [
    {
     "name": "stdout",
     "output_type": "stream",
     "text": [
      "Valores fora do range válido em Rating:              0\n",
      "Valores nulos na coluna Rating:                   1465\n",
      "Porcentagem de valores nulos na coluna Rating:  14.15%\n"
     ]
    }
   ],
   "source": [
    "out_of_range_rating_dataframe = valid_category_dataframe[\n",
    "    # Seleciona apenas registros com Rating fora do range 1-5\n",
    "    (valid_category_dataframe[RATING] < 1) | (valid_category_dataframe[RATING] > 5)\n",
    "]\n",
    "\n",
    "rating_missing_count = valid_category_dataframe[RATING].isnull().sum()\n",
    "null_rating_percent = (rating_missing_count / len(valid_category_dataframe)) * 100\n",
    "\n",
    "print(f\"Valores fora do range válido em {RATING}: {len(out_of_range_rating_dataframe):>14}\")\n",
    "print(f\"Valores nulos na coluna {RATING}: {rating_missing_count:>22}\")\n",
    "print(f\"Porcentagem de valores nulos na coluna {RATING}: {null_rating_percent:>6.2f}%\")"
   ]
  },
  {
   "cell_type": "markdown",
   "metadata": {},
   "source": [
    "Não temos números fora do range estabelecido para serem removidos.\n",
    "\n",
    "Como a quantidade de valores nulos em \"Rating\" representa uma parcela considerável dos valores e provavelmente indica que o aplicativo não possui avaliações em quantidade suficiente, é preferível mantê-los para aumentar a quantidade de registros disponíveis para análise de outros fatores."
   ]
  },
  {
   "cell_type": "code",
   "execution_count": 254,
   "metadata": {},
   "outputs": [],
   "source": [
    "# Troca de nomeclatura para indicar coluna validada\n",
    "valid_rating_dataframe = valid_category_dataframe"
   ]
  },
  {
   "cell_type": "markdown",
   "metadata": {},
   "source": [
    "#### 4. Coluna \"Reviews\n",
    "\n",
    "Seguindo a [políticas de avaliação](https://play.google/intl/pt-BR/comment-posting-policy/) da plataforma, podemos assumir que este campos representa a quantidade total de avaliações que um aplicativo possui\n",
    "\n",
    "Vamos tratar os valores inválidos, podemos considerar inválido qualquer valor fora do conjunto $\\mathbb{N}_0$:"
   ]
  },
  {
   "cell_type": "code",
   "execution_count": 255,
   "metadata": {},
   "outputs": [
    {
     "name": "stdout",
     "output_type": "stream",
     "text": [
      "Número de registros antes do tratamento de Reviews:      10357\n",
      "Número de valores válidos na coluna Reviews:             10357\n",
      "Número de registros removidos em Reviews:                    0\n"
     ]
    }
   ],
   "source": [
    "# Mascara que valida apenas valores inteiros\n",
    "reviews_int_mask = valid_rating_dataframe[REVIEWS].apply(lambda n: int(n) == float(n))\n",
    "\n",
    "# Mascara que valida apenas valores positivos\n",
    "reviews_unsigned_mask = valid_rating_dataframe[REVIEWS].apply(lambda n: float(n) >= 0)\n",
    "\n",
    "# Usa as mascaras criadas para retornar apenas os valores invalidos\n",
    "valid_reviews_dataframe = valid_rating_dataframe[reviews_int_mask & reviews_unsigned_mask]\n",
    "\n",
    "reviews_removed_registers = len(valid_rating_dataframe) - len(valid_reviews_dataframe)\n",
    "\n",
    "print(f\"Número de registros antes do tratamento de {REVIEWS}: {len(valid_rating_dataframe):>10}\")\n",
    "print(f\"Número de valores válidos na coluna {REVIEWS}: {len(valid_reviews_dataframe):>17}\")\n",
    "print(f\"Número de registros removidos em {REVIEWS}: {reviews_removed_registers:>20}\")"
   ]
  },
  {
   "cell_type": "markdown",
   "metadata": {},
   "source": [
    "#### 5. Coluna \"Size\"\n",
    "\n",
    "Vamos observar os dados dessa coluna:"
   ]
  },
  {
   "cell_type": "code",
   "execution_count": 256,
   "metadata": {},
   "outputs": [
    {
     "data": {
      "text/markdown": [
       "|      | Size   |\n",
       "|-----:|:-------|\n",
       "|    0 | 19M    |\n",
       "| 1101 | 32M    |\n",
       "| 2138 | 37M    |\n",
       "| 3269 | 17M    |\n",
       "| 4258 | 4.7M   |\n",
       "| 5211 | 7.9M   |\n",
       "| 6165 | 4.1M   |\n",
       "| 7126 | 25M    |\n",
       "| 8079 | 7.5M   |\n",
       "| 9040 | 31M    |"
      ],
      "text/plain": [
       "<IPython.core.display.Markdown object>"
      ]
     },
     "metadata": {},
     "output_type": "display_data"
    }
   ],
   "source": [
    "# Exibindo 10 registros variados da coluna \"Size\"\n",
    "display_df_table(distinct_dataframe[::randint(700, 1000)][SIZE].head(10))\n",
    "# Este bloco pode ser executado diversas vezes para ter maior noção dos dados"
   ]
  },
  {
   "cell_type": "markdown",
   "metadata": {},
   "source": [
    "Esta coluna possui o seguinte padrão:    \n",
    "1. Um valor específico: [Numero][Base] (19M = 19MB, 19000KB, 19000000B)\n",
    "2. Uma string \"Varies with device\"\n",
    "\n",
    "Vamos tratar os valores que fogem deste padrão:"
   ]
  },
  {
   "cell_type": "code",
   "execution_count": 257,
   "metadata": {},
   "outputs": [
    {
     "name": "stdout",
     "output_type": "stream",
     "text": [
      "Número de registros antes do tratamento de Size:      10357\n",
      "Número de valores válidos na coluna Size:             10357\n",
      "Número de registros removidos Size:                       0\n"
     ]
    }
   ],
   "source": [
    "# Expressao regular que verifica padrao [Numero][Base] ou \"Varies with device\"\n",
    "size_pattern_1 = r\"[\\d.]+[a-zA-Z]\"\n",
    "size_pattern_2 = r\"(Varies with device)\"\n",
    "\n",
    "# Cria mascara indicando valores validos perante expressao regular acima\n",
    "size_pattern_mask_1 = valid_reviews_dataframe[SIZE].str.match(size_pattern_1)\n",
    "size_pattern_mask_2 = valid_reviews_dataframe[SIZE].str.match(size_pattern_2)\n",
    "\n",
    "# Dataframe apenas com valores que que atendem alguma expressao regular\n",
    "valid_size_dataframe = valid_category_dataframe[size_pattern_mask_1 | size_pattern_mask_2]\n",
    "\n",
    "size_removed_registers = len(valid_reviews_dataframe) - len(valid_size_dataframe)\n",
    "\n",
    "print(f\"Número de registros antes do tratamento de {SIZE}: {len(valid_reviews_dataframe):>10}\")\n",
    "print(f\"Número de valores válidos na coluna {SIZE}: {len(valid_size_dataframe):>17}\")\n",
    "print(f\"Número de registros removidos {SIZE}: {size_removed_registers:>23}\")"
   ]
  },
  {
   "cell_type": "markdown",
   "metadata": {},
   "source": [
    "Por ultimo é interessante padronizar os valores de uma maneira que permita os ordenar numericamente:"
   ]
  },
  {
   "cell_type": "code",
   "execution_count": 258,
   "metadata": {},
   "outputs": [],
   "source": [
    "def normalize_size(value: str) -> str:\n",
    "    if value == \"Varies with device\": return value\n",
    "    \n",
    "    # Verifica ultimo caracter do valor e retorna uma string\n",
    "    # com o tamanho do app em kb\n",
    "    match value[-1]:\n",
    "        case \"M\": \n",
    "            return str(float(value[:-1]) * 1000)\n",
    "        case \"k\": \n",
    "            return value[:-1]\n",
    "\n",
    "# Crie uma cópia do dataframe\n",
    "normalized_size_dataframe = valid_size_dataframe.copy(deep=True)\n",
    "\n",
    "# Substitue os valores da coluna \"Size\" \n",
    "normalized_size_dataframe[SIZE] = normalized_size_dataframe[SIZE].apply(normalize_size)"
   ]
  },
  {
   "cell_type": "markdown",
   "metadata": {},
   "source": [
    "#### 6. Coluna \"Installs\"\n",
    "\n",
    "Vamos observar os dados dessa coluna:"
   ]
  },
  {
   "cell_type": "code",
   "execution_count": 259,
   "metadata": {},
   "outputs": [
    {
     "data": {
      "text/markdown": [
       "|      | Installs     |\n",
       "|-----:|:-------------|\n",
       "|    0 | 10,000+      |\n",
       "|  886 | 50,000,000+  |\n",
       "| 1766 | 10,000,000+  |\n",
       "| 2632 | 10,000,000+  |\n",
       "| 3526 | 100,000,000+ |\n",
       "| 4334 | 10,000,000+  |\n",
       "| 5111 | 10+          |\n",
       "| 5889 | 10,000+      |\n",
       "| 6674 | 100,000+     |\n",
       "| 7453 | 1,000,000+   |"
      ],
      "text/plain": [
       "<IPython.core.display.Markdown object>"
      ]
     },
     "metadata": {},
     "output_type": "display_data"
    }
   ],
   "source": [
    "# Exibindo 10 registros variados da coluna \"Installs\"\n",
    "display_df_table(distinct_dataframe[::randint(700, 1000)][INSTALLS].head(10))\n",
    "# Este bloco pode ser executado diversas vezes para ter maior noção dos dados"
   ]
  },
  {
   "cell_type": "markdown",
   "metadata": {},
   "source": [
    "Os valores se encontram no formato americano (\",\" como separador de milhares) com um \"+\" ao final. \n",
    "\n",
    "Podemos assumir que esta coluna deve receber apenas valores com o conjunto de caracteres descritos acima: "
   ]
  },
  {
   "cell_type": "code",
   "execution_count": 260,
   "metadata": {},
   "outputs": [
    {
     "name": "stdout",
     "output_type": "stream",
     "text": [
      "Número de registros antes do tratamento de Installs:      10357\n",
      "Número de valores válidos na coluna Installs:             10357\n",
      "Número de registros removidos Installs:                       0\n"
     ]
    }
   ],
   "source": [
    "# Expressao regular que verifica se a strin possui apenas \n",
    "# numeros, \",\" e \"+\".\n",
    "installs_pattern = r\"([\\d,+]+)\"\n",
    "\n",
    "# Cria uma mascara de busca para valores que atendem a expressao regular\n",
    "intalls_pattern_mask = normalized_size_dataframe[INSTALLS].str.match(installs_pattern)\n",
    "\n",
    "# Usa a mascara criada para retornar registros com valores validos\n",
    "valid_installs_dataframe = normalized_size_dataframe[intalls_pattern_mask]\n",
    "\n",
    "installs_removed_registers = len(normalized_size_dataframe) - len(valid_installs_dataframe)\n",
    "\n",
    "print(f\"Número de registros antes do tratamento de {INSTALLS}: {len(normalized_size_dataframe):>10}\")\n",
    "print(f\"Número de valores válidos na coluna {INSTALLS}: {len(valid_installs_dataframe):>17}\")\n",
    "print(f\"Número de registros removidos {INSTALLS}: {installs_removed_registers:>23}\")"
   ]
  },
  {
   "cell_type": "markdown",
   "metadata": {},
   "source": [
    "### 2. Os 5 Aplicativos Mais Instalados\n",
    "\n",
    "Para descobrirmos os aplicativos mais instalados da plataforma, podemos utilizar o campo \"Installs\" encontrado na tabela que apresenta o número de instalações no seguinte padrão:"
   ]
  },
  {
   "cell_type": "code",
   "execution_count": 261,
   "metadata": {},
   "outputs": [
    {
     "data": {
      "text/markdown": [
       "|      | Installs    |\n",
       "|-----:|:------------|\n",
       "|    0 | 10,000+     |\n",
       "| 2045 | 10,000,000+ |\n",
       "| 4078 | 500,000+    |\n",
       "| 5902 | 5,000+      |\n",
       "| 7730 | 10+         |"
      ],
      "text/plain": [
       "<IPython.core.display.Markdown object>"
      ]
     },
     "metadata": {},
     "output_type": "display_data"
    }
   ],
   "source": [
    "# Exibindo 5 registros variados da coluna \"Installs\"\n",
    "display_df_table(distinct_dataframe[::randint(1700, 2000)][INSTALLS].head(5))\n",
    "# Este bloco pode ser executado diversas vezes para ter maior noção dos dados"
   ]
  },
  {
   "cell_type": "markdown",
   "metadata": {},
   "source": [
    "Os valores se encontram no formato americano (\",\" como separador de milhares) com um \"+\" ao final. \n",
    "\n",
    "Podemos assumir que esta coluna deve receber apenas valores com o conjunto de caracteres descritos acima: "
   ]
  },
  {
   "cell_type": "code",
   "execution_count": 262,
   "metadata": {},
   "outputs": [
    {
     "name": "stdout",
     "output_type": "stream",
     "text": [
      "Número de registros antes do tratamento de Installs:      10358\n",
      "Número de valores válidos na coluna Installs:             10357\n",
      "Número de registros removidos em Installs:                    1\n"
     ]
    }
   ],
   "source": [
    "# Expressao regular que verifica se a strin possui apenas \n",
    "# numeros, \",\" e \"+\".\n",
    "installs_pattern = r\"([\\d,+]+)\"\n",
    "\n",
    "# Cria uma mascara de busca para valores que atendem a expressao regular\n",
    "intalls_pattern_mask = distinct_dataframe[INSTALLS].str.match(installs_pattern)\n",
    "\n",
    "# Usa a mascara criada para retornar registros com valores validos\n",
    "valid_installs_dataframe = distinct_dataframe[intalls_pattern_mask]\n",
    "\n",
    "installs_removed_registers = len(distinct_dataframe) - len(valid_installs_dataframe)\n",
    "\n",
    "print(f\"Número de registros antes do tratamento de {INSTALLS}: {len(distinct_dataframe):>10}\")\n",
    "print(f\"Número de valores válidos na coluna {INSTALLS}: {len(valid_installs_dataframe):>17}\")\n",
    "print(f\"Número de registros removidos em {INSTALLS}: {installs_removed_registers:>20}\")"
   ]
  },
  {
   "cell_type": "markdown",
   "metadata": {},
   "source": [
    "Por fim, podemos organizar os aplicativos pelo número de instalações:"
   ]
  },
  {
   "cell_type": "code",
   "execution_count": 276,
   "metadata": {},
   "outputs": [
    {
     "data": {
      "text/markdown": [
       "|      | App                          |   Installs |\n",
       "|-----:|:-----------------------------|-----------:|\n",
       "| 2544 | Facebook                     | 1000000000 |\n",
       "|  340 | Gmail                        | 1000000000 |\n",
       "| 3234 | Google                       | 1000000000 |\n",
       "|  338 | Google Chrome: Fast & Secure | 1000000000 |\n",
       "| 3454 | Google Drive                 | 1000000000 |\n",
       "| 3736 | Google News                  | 1000000000 |\n",
       "| 2808 | Google Photos                | 1000000000 |\n",
       "|  152 | Google Play Books            | 1000000000 |\n",
       "|  865 | Google Play Games            | 1000000000 |\n",
       "| 3687 | Google Play Movies & TV      | 1000000000 |"
      ],
      "text/plain": [
       "<IPython.core.display.Markdown object>"
      ]
     },
     "metadata": {},
     "output_type": "display_data"
    }
   ],
   "source": [
    "# Cria uma cópia do dataframe \n",
    "normalized_installs_dataframe = valid_installs_dataframe.copy(deep=True)\n",
    "\n",
    "# Converte valores de install para valores numericos\n",
    "normalized_installs_dataframe[INSTALLS] = normalized_installs_dataframe[INSTALLS].apply(\n",
    "    # Remove \",\" e \"+\" e converte para inteiro\n",
    "    lambda n: int(n.replace(\",\", \"\").replace(\"+\", \"\"))\n",
    ")\n",
    "\n",
    "# Dataframe com registros ordenados por numero de instalações e nome\n",
    "most_installs_dataframe = normalized_installs_dataframe[[APP, INSTALLS]].sort_values(by=[INSTALLS, APP], ascending=[False, True])\n",
    "\n",
    "# Dataframe com os 10 apps com mais instalações\n",
    "installs_dataframe_for_plot = most_installs_dataframe.drop_duplicates()\n",
    "\n",
    "display_df_table(installs_dataframe_for_plot.head(10))"
   ]
  },
  {
   "cell_type": "markdown",
   "metadata": {},
   "source": [
    "Infelizmente os registros encontrados apontam para aplicativos que muitas vezes vem instalados de fábrica no dispositivo.\n",
    "\n",
    "Vamos fazer uma lista de palavras chaves destes apps e ignorá-los na análise:"
   ]
  },
  {
   "cell_type": "code",
   "execution_count": 279,
   "metadata": {},
   "outputs": [
    {
     "data": {
      "text/markdown": [
       "|      | App                                      |   Installs |\n",
       "|-----:|:-----------------------------------------|-----------:|\n",
       "| 2544 | Facebook                                 | 1000000000 |\n",
       "|  341 | Hangouts                                 | 1000000000 |\n",
       "| 2545 | Instagram                                | 1000000000 |\n",
       "| 3117 | Maps - Navigate & Explore                | 1000000000 |\n",
       "|  335 | Messenger – Text and Video Chat for Free | 1000000000 |\n",
       "|  391 | Skype - free IM & video calls            | 1000000000 |\n",
       "| 1654 | Subway Surfers                           | 1000000000 |\n",
       "|  336 | WhatsApp Messenger                       | 1000000000 |\n",
       "| 1655 | Candy Crush Saga                         |  500000000 |\n",
       "| 4005 | Clean Master- Space Cleaner & Antivirus  |  500000000 |"
      ],
      "text/plain": [
       "<IPython.core.display.Markdown object>"
      ]
     },
     "metadata": {},
     "output_type": "display_data"
    }
   ],
   "source": [
    "# Lista de palvras chaves para ignorar apps\n",
    "ignore_list = [\"google\", \"gmail\", \"youtube\"]\n",
    "\n",
    "# Mascara que valida apenas valores que pertencem a lista de apps ignorados\n",
    "pre_installed_apps_mask = installs_dataframe_for_plot[APP].apply(str.lower).str.contains('|'.join(ignore_list))\n",
    "\n",
    "# Dataframe com os 10 apps com mais instalações excluindo os apps da lista ignore_list\n",
    "not_pre_installs_dataframe = installs_dataframe_for_plot[~pre_installed_apps_mask]\n",
    "\n",
    "display_df_table(not_pre_installs_dataframe.head(10))"
   ]
  },
  {
   "cell_type": "markdown",
   "metadata": {},
   "source": [
    "Gerando o gráfico pedido:"
   ]
  },
  {
   "cell_type": "code",
   "execution_count": 290,
   "metadata": {},
   "outputs": [
    {
     "data": {
      "image/png": "[encoded data removed]",
      "text/plain": [
       "<Figure size 1000x600 with 1 Axes>"
      ]
     },
     "metadata": {},
     "output_type": "display_data"
    },
    {
     "data": {
      "image/png": "[encoded data removed]",
      "text/plain": [
       "<Figure size 1000x600 with 1 Axes>"
      ]
     },
     "metadata": {},
     "output_type": "display_data"
    }
   ],
   "source": [
    "# Grafico de barras contando apps pre instalados_____________________________________\n",
    "pre_installs_head = installs_dataframe_for_plot.head(10)\n",
    "\n",
    "# Configurar o tamanho da figura\n",
    "plt.figure(figsize=(10, 6))\n",
    "\n",
    "# Criar o gráfico de barras\n",
    "plt.bar(pre_installs_head[APP], pre_installs_head[INSTALLS])\n",
    "\n",
    "# Rotacionar os rótulos do eixo x para facilitar a leitura\n",
    "plt.xticks(rotation=90)\n",
    "\n",
    "# Adicionar título e rótulos dos eixos\n",
    "plt.title('Top 5 Aplicativos Mais Instalados (Com Apps Embutidos)')\n",
    "plt.xlabel('Aplicativo')\n",
    "plt.ylabel('Número de Instalações em Bilhões')\n",
    "\n",
    "# Exibir o gráfico\n",
    "plt.show()\n",
    "\n",
    "# Grafico de barras sem apps pre instalados___________________________________________\n",
    "not_pre_installs_head = not_pre_installs_dataframe.head(10)\n",
    "\n",
    "# Configurar o tamanho da figura\n",
    "plt.figure(figsize=(10, 6))\n",
    "\n",
    "# Criar o gráfico de barras\n",
    "plt.bar(not_pre_installs_head[APP], not_pre_installs_head[INSTALLS], color='blueviolet')\n",
    "\n",
    "# Rotacionar os rótulos do eixo x para facilitar a leitura\n",
    "plt.xticks(rotation=90)\n",
    "\n",
    "# Adicionar título e rótulos dos eixos\n",
    "plt.title('Top 5 Aplicativos Mais Instalados (Sem Apps Embutidos)')\n",
    "plt.xlabel('Aplicativo')\n",
    "plt.ylabel('Número de Instalações em Bilhões')\n",
    "\n",
    "# Exibir o gráfico\n",
    "plt.show()"
   ]
  }
 ],
 "metadata": {
  "kernelspec": {
   "display_name": ".venv",
   "language": "python",
   "name": "python3"
  },
  "language_info": {
   "codemirror_mode": {
    "name": "ipython",
    "version": 3
   },
   "file_extension": ".py",
   "mimetype": "text/x-python",
   "name": "python",
   "nbconvert_exporter": "python",
   "pygments_lexer": "ipython3",
   "version": "3.12.3"
  }
 },
 "nbformat": 4,
 "nbformat_minor": 2
}
