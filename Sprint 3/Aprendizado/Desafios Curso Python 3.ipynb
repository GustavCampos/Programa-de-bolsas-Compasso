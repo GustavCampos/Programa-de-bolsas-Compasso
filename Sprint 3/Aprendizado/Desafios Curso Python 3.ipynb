{
 "cells": [
  {
   "cell_type": "markdown",
   "metadata": {},
   "source": [
    "# Desafios Python 3 - Curso Completo Básico ao Avançado\n",
    "\n",
    "1. Calcular a porcentagem de comprometimento do salario com despesas"
   ]
  },
  {
   "cell_type": "code",
   "execution_count": 2,
   "metadata": {},
   "outputs": [
    {
     "name": "stdout",
     "output_type": "stream",
     "text": [
      "O comprometimento em despesas é cerca de 71.18% do salário\n"
     ]
    }
   ],
   "source": [
    "salario = 3450.45\n",
    "despesas = 2456.2\n",
    "porcentagem = (despesas * 100) / salario\n",
    "\n",
    "print(f\"O comprometimento em despesas é cerca de {porcentagem:.2f}% do salário\")"
   ]
  },
  {
   "cell_type": "markdown",
   "metadata": {},
   "source": [
    "2. Operadores Lógicos"
   ]
  },
  {
   "cell_type": "code",
   "execution_count": 1,
   "metadata": {},
   "outputs": [
    {
     "name": "stdout",
     "output_type": "stream",
     "text": [
      "TV 50' + Sorvete\n"
     ]
    }
   ],
   "source": [
    "trabalho_terca = True\n",
    "trabalho_quinta = True\n",
    "\n",
    "if trabalho_terca and trabalho_quinta:\n",
    "    print(\"TV 50' + Sorvete\")\n",
    "elif trabalho_terca or trabalho_quinta:\n",
    "    print(\"TV 32' + Sorvete\")\n",
    "else:\n",
    "    print(\"A família ficou mais saudavel\")"
   ]
  },
  {
   "cell_type": "markdown",
   "metadata": {},
   "source": [
    "3. Conceitos de Notas\n",
    "    * **A** para 10 - 9.1\n",
    "    * **A-** para 9 - 8.1\n",
    "    * **B** para 8 - 7.1\n",
    "    * **B-** para 7 - 6.1\n",
    "    * **C** para 6 - 5.1\n",
    "    * **C-** para 5 - 4.1\n",
    "    * **D** para 4 - 3.1\n",
    "    * **D-** para 3 - 2.1\n",
    "    * **E** para 2 - 1.1\n",
    "    * **E-** para 1 - 0.0\n",
    "\n",
    "    Notas maiores que 10 e menores que 0 será impreso \"nota invalida\"."
   ]
  },
  {
   "cell_type": "code",
   "execution_count": 14,
   "metadata": {},
   "outputs": [
    {
     "name": "stdout",
     "output_type": "stream",
     "text": [
      "nota inválida\n"
     ]
    }
   ],
   "source": [
    "def getContextGrade(grade: float) -> str:\n",
    "    if grade < 0 or grade > 10: return \"nota inválida\"\n",
    "    \n",
    "    if   grade > 9: return \"A\"\n",
    "    elif grade > 8: return \"A-\"\n",
    "    elif grade > 7: return \"B\"\n",
    "    elif grade > 6: return \"B-\"\n",
    "    elif grade > 5: return \"C\"\n",
    "    elif grade > 4: return \"C-\"\n",
    "    elif grade > 3: return \"D\"\n",
    "    elif grade > 2: return \"D-\"\n",
    "    elif grade > 1: return \"E\"\n",
    "    else: return \"E-\"\n",
    "    \n",
    "print(getContextGrade(1))"
   ]
  }
 ],
 "metadata": {
  "kernelspec": {
   "display_name": "Python 3",
   "language": "python",
   "name": "python3"
  },
  "language_info": {
   "codemirror_mode": {
    "name": "ipython",
    "version": 3
   },
   "file_extension": ".py",
   "mimetype": "text/x-python",
   "name": "python",
   "nbconvert_exporter": "python",
   "pygments_lexer": "ipython3",
   "version": "3.12.3"
  }
 },
 "nbformat": 4,
 "nbformat_minor": 2
}
