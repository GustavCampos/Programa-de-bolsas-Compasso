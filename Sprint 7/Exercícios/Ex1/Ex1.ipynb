{
 "cells": [
  {
   "cell_type": "code",
   "execution_count": 4,
   "id": "dc95432a-ae7c-402e-8133-d5875f54b5d0",
   "metadata": {},
   "outputs": [],
   "source": [
    "from pyspark.context import SparkContext\n",
    "from pyspark.sql.session import SparkSession\n",
    "\n",
    "spark_context = SparkContext.getOrCreate()\n",
    "spark = SparkSession(spark_context)"
   ]
  },
  {
   "cell_type": "markdown",
   "id": "42650674-99a7-4c71-8f2b-8c6e72cefacd",
   "metadata": {},
   "source": [
    "## Main code"
   ]
  },
  {
   "cell_type": "markdown",
   "id": "c612ea3f-a5d3-49a4-87f6-9cbeffab1d61",
   "metadata": {},
   "source": [
    "### Importing file"
   ]
  },
  {
   "cell_type": "code",
   "execution_count": 19,
   "id": "b56beb6c-c100-4181-9020-119ea6458618",
   "metadata": {},
   "outputs": [
    {
     "data": {
      "text/plain": [
       "['# Gustavo Henrique Pereira de Campos',\n",
       " '',\n",
       " '**Estudante de Engenharia de Software na Unijuí (3º semestre)** - Ijuí, Rio Grande do Sul, Brasil']"
      ]
     },
     "execution_count": 19,
     "metadata": {},
     "output_type": "execute_result"
    }
   ],
   "source": [
    "from os.path import join, realpath\n",
    "\n",
    "README_PATH = realpath(join(\"..\", \"downloads\", \"README.md\"))\n",
    "readme_file = spark_context.textFile(README_PATH)\n",
    "\n",
    "readme_file.take(3)"
   ]
  },
  {
   "cell_type": "markdown",
   "id": "ac02b9b5-0ca1-4574-9fa8-ce0b90b9ca76",
   "metadata": {},
   "source": [
    "### Splitting words"
   ]
  },
  {
   "cell_type": "code",
   "execution_count": 25,
   "id": "6ba3ac5c-5950-4deb-9c4a-10d5a13a0f55",
   "metadata": {},
   "outputs": [
    {
     "data": {
      "text/plain": [
       "['gustavo', 'henrique', 'pereira']"
      ]
     },
     "execution_count": 25,
     "metadata": {},
     "output_type": "execute_result"
    }
   ],
   "source": [
    "flatmap_file = readme_file.flatMap(\n",
    "    lambda n: [cc for cc in \"\".join([(\" \", c.lower())[c.isalpha()] for c in n]).split(\" \") if cc != \"\"] \n",
    ")\n",
    "\n",
    "flatmap_file.take(3)"
   ]
  },
  {
   "cell_type": "markdown",
   "id": "f29ca128-077d-4500-9c22-20e70c76b2e8",
   "metadata": {},
   "source": [
    "### Counting Words"
   ]
  },
  {
   "cell_type": "code",
   "execution_count": 34,
   "id": "39fa95b8-cfa4-4c8b-8138-0798bc340e9d",
   "metadata": {},
   "outputs": [
    {
     "data": {
      "text/plain": [
       "[('de', 27), ('sprint', 20), ('img', 16), ('e', 15), ('badge', 14)]"
      ]
     },
     "execution_count": 34,
     "metadata": {},
     "output_type": "execute_result"
    }
   ],
   "source": [
    "from operator import add\n",
    "\n",
    "word_count = flatmap_file.map(lambda n: (n, 1)).reduceByKey(add)\n",
    "sorted_word_count = word_count.sortBy(lambda n: n[1], ascending=False)\n",
    "sorted_word_count.take(5)"
   ]
  }
 ],
 "metadata": {
  "kernelspec": {
   "display_name": "Python 3 (ipykernel)",
   "language": "python",
   "name": "python3"
  },
  "language_info": {
   "codemirror_mode": {
    "name": "ipython",
    "version": 3
   },
   "file_extension": ".py",
   "mimetype": "text/x-python",
   "name": "python",
   "nbconvert_exporter": "python",
   "pygments_lexer": "ipython3",
   "version": "3.11.6"
  }
 },
 "nbformat": 4,
 "nbformat_minor": 5
}
