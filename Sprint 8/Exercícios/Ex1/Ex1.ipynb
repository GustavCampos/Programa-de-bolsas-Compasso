{
 "cells": [
  {
   "cell_type": "markdown",
   "id": "cc4e9ba2-2ca4-4890-bc41-7ac1124fbbae",
   "metadata": {},
   "source": [
    "# Warm Up"
   ]
  },
  {
   "cell_type": "markdown",
   "id": "0d4ed4aa-8f60-4c06-8722-391526100bec",
   "metadata": {},
   "source": [
    "## 1 - Inicializar uma lista com 250 inteiros obtidos aleatoreamente"
   ]
  },
  {
   "cell_type": "code",
   "execution_count": 9,
   "id": "9b3a86d4-da16-433c-b409-bfc98b7781db",
   "metadata": {},
   "outputs": [
    {
     "name": "stdout",
     "output_type": "stream",
     "text": [
      "[8438, 2214, 5993, 1690, 4402, 8665, 5492, 7403, 1579, 5520]\n"
     ]
    }
   ],
   "source": [
    "from random import randint\n",
    "\n",
    "random_list = [randint(1, 10_000) for seed in range(250)]\n",
    "\n",
    "print(random_list[:10])"
   ]
  },
  {
   "cell_type": "markdown",
   "id": "f2d8c8ed-bd80-42da-b33c-3fb73a2dd167",
   "metadata": {},
   "source": [
    "## 2 - Lista de animais"
   ]
  },
  {
   "cell_type": "code",
   "execution_count": 16,
   "id": "fa46c2fd-85ff-4cd0-b52a-7da288588c5d",
   "metadata": {},
   "outputs": [],
   "source": [
    "animals = [\"Slow Loris\", \"Mandarin Duck\", \"Tapir\", \"Pink Grasshopper\", \"Peruvian Giant Yellow-Leg Centipede\", \"Leafy Seadragon\", \"Fanfin Angler\", \"Japanese Macaque\", \"Pink Dolphin\", \"Liger\", \"Atelopus Frog\", \"Pangolin\", \"Fennec Fox\", \"Blobfish\", \"Dumbo Octopus\", \"Tufted Deer\", \"Star-Nosed Mole\", \"Mantis Shrimp\", \"Blue Dragon Sea Slug\", \"Axolotl\"]\n",
    "sorted_animals = sorted(animals)\n",
    "\n",
    "with open(\"animals.csv\", \"w\") as file:\n",
    "    file.write(\"Name\")\n",
    "    file.writelines([f\"\\n{item}\" for item in sorted_animals])"
   ]
  },
  {
   "cell_type": "markdown",
   "id": "8547da0a-87be-42dc-a253-6f021714efbd",
   "metadata": {},
   "source": [
    "# Exercício"
   ]
  },
  {
   "cell_type": "code",
   "execution_count": 25,
   "id": "1f305523-a438-44f3-9e45-09ff22ad3881",
   "metadata": {},
   "outputs": [],
   "source": [
    "import random\n",
    "import time\n",
    "import os\n",
    "import names\n",
    "\n",
    "# Defining parameters\n",
    "random.seed(40)\n",
    "unique_name_qtt = 300\n",
    "random_name_qtt = 10_000_000\n",
    "\n",
    "# Main code\n",
    "unique_name_list = [names.get_full_name() for _ in range(unique_name_qtt)]\n",
    "name_data = [random.choice(unique_name_list) for _ in range(random_name_qtt)]\n",
    "\n",
    "with open(\"nomes_aleatorios.txt\", \"w\") as file:\n",
    "    file.write(\"\\n\".join(name_data))"
   ]
  }
 ],
 "metadata": {
  "kernelspec": {
   "display_name": "Python 3 (ipykernel)",
   "language": "python",
   "name": "python3"
  },
  "language_info": {
   "codemirror_mode": {
    "name": "ipython",
    "version": 3
   },
   "file_extension": ".py",
   "mimetype": "text/x-python",
   "name": "python",
   "nbconvert_exporter": "python",
   "pygments_lexer": "ipython3",
   "version": "3.11.6"
  }
 },
 "nbformat": 4,
 "nbformat_minor": 5
}
