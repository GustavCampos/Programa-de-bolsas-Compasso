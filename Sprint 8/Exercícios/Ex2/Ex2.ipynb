{
 "cells": [
  {
   "cell_type": "markdown",
   "id": "adc35b22-4648-466b-a521-b0667cb9902c",
   "metadata": {},
   "source": [
    "# Etapa 1"
   ]
  },
  {
   "cell_type": "code",
   "execution_count": 5,
   "id": "e01c2849-6561-4d62-9f47-881b88aae0eb",
   "metadata": {},
   "outputs": [
    {
     "name": "stdout",
     "output_type": "stream",
     "text": [
      "+---------------+\n",
      "|            _c0|\n",
      "+---------------+\n",
      "| Martin Nattiah|\n",
      "|  Maryann Mcgee|\n",
      "|    Kyle Keaton|\n",
      "|Frank Boudreaux|\n",
      "|  Justin Walton|\n",
      "+---------------+\n",
      "only showing top 5 rows\n",
      "\n"
     ]
    }
   ],
   "source": [
    "from pyspark.sql.session import SparkSession\n",
    "from pyspark import SparkContext, SQLContext\n",
    "\n",
    "spark = SparkSession.builder.master(\"local[*]\").appName(\"Ex2\").getOrCreate()\n",
    "\n",
    "names_df = spark.read.csv(\"nomes_aleatorios.txt\")\n",
    "\n",
    "names_df.show(5)"
   ]
  },
  {
   "cell_type": "markdown",
   "id": "ee7d8efe-701c-4910-80fd-5453a5d4528d",
   "metadata": {},
   "source": [
    "# Etapa 2"
   ]
  },
  {
   "cell_type": "code",
   "execution_count": 7,
   "id": "0f969334-f52f-44d4-9170-dfffbf19784d",
   "metadata": {},
   "outputs": [
    {
     "name": "stdout",
     "output_type": "stream",
     "text": [
      "root\n",
      " |-- Nomes: string (nullable = true)\n",
      "\n",
      "+---------------+\n",
      "|          Nomes|\n",
      "+---------------+\n",
      "| Martin Nattiah|\n",
      "|  Maryann Mcgee|\n",
      "|    Kyle Keaton|\n",
      "|Frank Boudreaux|\n",
      "|  Justin Walton|\n",
      "|Tiffany Parnell|\n",
      "|     Ralph Gray|\n",
      "|    John Rusnak|\n",
      "|   Nelson Bland|\n",
      "|   Michael Levi|\n",
      "+---------------+\n",
      "only showing top 10 rows\n",
      "\n"
     ]
    }
   ],
   "source": [
    "names_df = names_df.withColumnRenamed(\"_c0\", \"Nomes\")\n",
    "\n",
    "names_df.printSchema()\n",
    "names_df.show(10)"
   ]
  },
  {
   "cell_type": "markdown",
   "id": "16c33f1c-5fe6-4f49-95db-2284e1821f76",
   "metadata": {},
   "source": [
    "# Etapa 3"
   ]
  },
  {
   "cell_type": "code",
   "execution_count": 17,
   "id": "f3f33b8b-716b-46f5-86f4-c4dabd6cefbb",
   "metadata": {},
   "outputs": [
    {
     "name": "stdout",
     "output_type": "stream",
     "text": [
      "+---------------+------------+\n",
      "|          Nomes|Escolaridade|\n",
      "+---------------+------------+\n",
      "| Martin Nattiah| Fundamental|\n",
      "|  Maryann Mcgee|    Superior|\n",
      "|    Kyle Keaton|       Medio|\n",
      "|Frank Boudreaux| Fundamental|\n",
      "|  Justin Walton| Fundamental|\n",
      "|Tiffany Parnell| Fundamental|\n",
      "|     Ralph Gray| Fundamental|\n",
      "|    John Rusnak|    Superior|\n",
      "|   Nelson Bland|       Medio|\n",
      "|   Michael Levi|       Medio|\n",
      "+---------------+------------+\n",
      "only showing top 10 rows\n",
      "\n"
     ]
    }
   ],
   "source": [
    "from pyspark.sql import functions as dff\n",
    "from random import choice\n",
    "\n",
    "df_choice = dff.udf(lambda: choice([\"Fundamental\", \"Medio\", \"Superior\"]))\n",
    "education_df = names_df.withColumn(\"Escolaridade\", df_choice())\n",
    "\n",
    "education_df.show(10)"
   ]
  },
  {
   "cell_type": "markdown",
   "id": "34fc1a33-e77f-46ff-ba44-c70f109ef60b",
   "metadata": {},
   "source": [
    "# Etapa 4"
   ]
  },
  {
   "cell_type": "code",
   "execution_count": 23,
   "id": "ff6261d5-cfa1-47de-a85c-1947df7498a8",
   "metadata": {},
   "outputs": [
    {
     "name": "stdout",
     "output_type": "stream",
     "text": [
      "+---------------+------------+---------+\n",
      "|          Nomes|Escolaridade|     Pais|\n",
      "+---------------+------------+---------+\n",
      "| Martin Nattiah| Fundamental|Argentina|\n",
      "|  Maryann Mcgee|    Superior| Paraguay|\n",
      "|    Kyle Keaton|       Medio|  Ecuador|\n",
      "|Frank Boudreaux| Fundamental|  Bolivia|\n",
      "|  Justin Walton| Fundamental|  Bolivia|\n",
      "+---------------+------------+---------+\n",
      "only showing top 5 rows\n",
      "\n"
     ]
    }
   ],
   "source": [
    "south_american_countries = [\"Argentina\", \"Bolivia\", \"Brazil\", \"Chile\", \"Colombia\", \"French Guiana\", \"Ecuador\", \"Guyana\", \"Paraguay\", \"Peru\", \"Suriname\", \"Uruguay\", \"Venezuela\"]\n",
    "\n",
    "dff_choice = dff.udf(lambda: choice(south_american_countries))\n",
    "country_df = education_df.withColumn(\"Pais\", dff_choice())\n",
    "\n",
    "country_df.show(5)"
   ]
  },
  {
   "cell_type": "markdown",
   "id": "0ddeafe1-1ce7-4c56-ae49-efab510ca340",
   "metadata": {},
   "source": [
    "# Etapa 5"
   ]
  },
  {
   "cell_type": "code",
   "execution_count": 24,
   "id": "5e544174-8a5b-4162-9ee4-b0151996c96b",
   "metadata": {},
   "outputs": [
    {
     "name": "stdout",
     "output_type": "stream",
     "text": [
      "+---------------+------------+---------+-------------+\n",
      "|          Nomes|Escolaridade|     Pais|AnoNascimento|\n",
      "+---------------+------------+---------+-------------+\n",
      "| Martin Nattiah| Fundamental|Argentina|         1952|\n",
      "|  Maryann Mcgee|    Superior| Paraguay|         1998|\n",
      "|    Kyle Keaton|       Medio|  Ecuador|         1957|\n",
      "|Frank Boudreaux| Fundamental|  Bolivia|         1953|\n",
      "|  Justin Walton| Fundamental|  Bolivia|         1956|\n",
      "+---------------+------------+---------+-------------+\n",
      "only showing top 5 rows\n",
      "\n"
     ]
    }
   ],
   "source": [
    "from pyspark.sql.types import IntegerType\n",
    "from random import randint\n",
    "\n",
    "dff_randint = dff.udf(lambda: randint(1945, 2010), IntegerType())\n",
    "birth_date_df = country_df.withColumn(\"AnoNascimento\", dff_randint())\n",
    "\n",
    "birth_date_df.show(5)"
   ]
  },
  {
   "cell_type": "markdown",
   "id": "31067711-4711-451d-838b-ef8484e64362",
   "metadata": {},
   "source": [
    "# Etapa 6"
   ]
  },
  {
   "cell_type": "code",
   "execution_count": 26,
   "id": "86b8a422-63ab-4447-9614-779ec6907cd1",
   "metadata": {},
   "outputs": [
    {
     "name": "stdout",
     "output_type": "stream",
     "text": [
      "+----------------+------------+---------+-------------+\n",
      "|           Nomes|Escolaridade|     Pais|AnoNascimento|\n",
      "+----------------+------------+---------+-------------+\n",
      "|      Ralph Gray| Fundamental|Argentina|         1952|\n",
      "|    Nelson Bland|    Superior| Paraguay|         1998|\n",
      "|     Jack Worden|       Medio|  Ecuador|         1957|\n",
      "|Benjamin Schmidt| Fundamental|  Bolivia|         1953|\n",
      "|    Thomas Price| Fundamental|  Bolivia|         1956|\n",
      "+----------------+------------+---------+-------------+\n",
      "only showing top 5 rows\n",
      "\n"
     ]
    }
   ],
   "source": [
    "dff_get_century = dff.udf(lambda n: (n // 100) + 1, IntegerType())\n",
    "\n",
    "select_df = birth_date_df.select(\"*\").where(dff_get_century(dff.col(\"AnoNascimento\")) == 21)\n",
    "\n",
    "select_df.show(5)"
   ]
  },
  {
   "cell_type": "markdown",
   "id": "7e3b906c-2b53-442d-be79-15826a6ab116",
   "metadata": {},
   "source": [
    "# Etapa 7"
   ]
  },
  {
   "cell_type": "code",
   "execution_count": 27,
   "id": "09947e3a-6781-426d-8d84-44f51c70a4a9",
   "metadata": {},
   "outputs": [
    {
     "name": "stdout",
     "output_type": "stream",
     "text": [
      "+-----------------+------------+-------------+-------------+\n",
      "|            Nomes|Escolaridade|         Pais|AnoNascimento|\n",
      "+-----------------+------------+-------------+-------------+\n",
      "|   Martin Nattiah| Fundamental|    Argentina|         1952|\n",
      "|    Maryann Mcgee|    Superior|     Paraguay|         1998|\n",
      "|      Kyle Keaton|       Medio|      Ecuador|         1957|\n",
      "|  Frank Boudreaux| Fundamental|      Bolivia|         1953|\n",
      "|    Justin Walton| Fundamental|      Bolivia|         1956|\n",
      "|  Tiffany Parnell| Fundamental|      Bolivia|         1951|\n",
      "|       Ralph Gray| Fundamental|    Argentina|         2005|\n",
      "|      John Rusnak|    Superior|         Peru|         1986|\n",
      "|     Nelson Bland|       Medio|       Guyana|         2010|\n",
      "|     Michael Levi|       Medio|French Guiana|         1975|\n",
      "|Susan Bridenbaker|    Superior|     Suriname|         1956|\n",
      "|       Rosa Goode|    Superior|     Paraguay|         1993|\n",
      "|      Edna Scharf|    Superior|      Uruguay|         1992|\n",
      "|    Jason Trundle|    Superior|     Paraguay|         1946|\n",
      "|      Lucia Elrod| Fundamental|        Chile|         1999|\n",
      "|      Lula Layton|    Superior|     Suriname|         1985|\n",
      "|      Jack Worden| Fundamental|      Bolivia|         2010|\n",
      "| Benjamin Schmidt|       Medio|      Ecuador|         2007|\n",
      "|   David Kitchens|       Medio|French Guiana|         1965|\n",
      "|     Thomas Price|    Superior|     Suriname|         2010|\n",
      "+-----------------+------------+-------------+-------------+\n",
      "only showing top 20 rows\n",
      "\n"
     ]
    }
   ],
   "source": [
    "birth_date_df.createOrReplaceTempView(\"People\")\n",
    "\n",
    "spark.sql(\"SELECT * FROM People\").show()"
   ]
  },
  {
   "cell_type": "markdown",
   "id": "e0d3430e-c681-47ae-ae3c-2455a28df75f",
   "metadata": {},
   "source": [
    "# Etapa 8"
   ]
  },
  {
   "cell_type": "code",
   "execution_count": 35,
   "id": "a419f291-1c0f-4587-b546-9a19ed7c5ac6",
   "metadata": {},
   "outputs": [
    {
     "name": "stdout",
     "output_type": "stream",
     "text": [
      "2276151\n"
     ]
    }
   ],
   "source": [
    "millenials_count = birth_date_df.select(\"*\").where((dff.col(\"AnoNascimento\") >= 1980) & (dff.col(\"AnoNascimento\") <= 1994)).count()\n",
    "print(millenials_count)"
   ]
  },
  {
   "cell_type": "markdown",
   "id": "7066f3d2-8288-4e12-89b6-5edb0d94a7a7",
   "metadata": {},
   "source": [
    "# Etapa 9"
   ]
  },
  {
   "cell_type": "code",
   "execution_count": 37,
   "id": "b1ce2045-b9fd-49ed-82c5-6c899cdbfdc2",
   "metadata": {},
   "outputs": [
    {
     "name": "stdout",
     "output_type": "stream",
     "text": [
      "+--------+\n",
      "|count(1)|\n",
      "+--------+\n",
      "| 2276151|\n",
      "+--------+\n",
      "\n"
     ]
    }
   ],
   "source": [
    "spark.sql(\"SELECT COUNT(*) FROM People WHERE AnoNascimento BETWEEN 1980 AND  1994\").show()"
   ]
  },
  {
   "cell_type": "markdown",
   "id": "635f6379-bf78-4fae-be6c-7f78718f96ed",
   "metadata": {},
   "source": [
    "# Etapa 10"
   ]
  },
  {
   "cell_type": "code",
   "execution_count": 49,
   "id": "82a58346-3163-49ed-bd42-55c65dd9d6d9",
   "metadata": {},
   "outputs": [
    {
     "name": "stdout",
     "output_type": "stream",
     "text": [
      "+---------+-------+----------+\n",
      "|     Pais|Geracao|Quantidade|\n",
      "+---------+-------+----------+\n",
      "|Argentina|     BB|    231901|\n",
      "|Argentina|      X|    175737|\n",
      "|Argentina|      Y|    175407|\n",
      "|Argentina|      Z|    186737|\n",
      "|  Bolivia|     BB|    233970|\n",
      "|  Bolivia|      X|    175285|\n",
      "|  Bolivia|      Y|    171186|\n",
      "|  Bolivia|      Z|    186538|\n",
      "|   Brazil|     BB|    236166|\n",
      "|   Brazil|      X|    175088|\n",
      "|   Brazil|      Y|    173095|\n",
      "|   Brazil|      Z|    183610|\n",
      "|    Chile|     BB|    233104|\n",
      "|    Chile|      X|    173080|\n",
      "|    Chile|      Y|    175085|\n",
      "|    Chile|      Z|    186230|\n",
      "| Colombia|     BB|    235138|\n",
      "| Colombia|      X|    177001|\n",
      "| Colombia|      Y|    174849|\n",
      "| Colombia|      Z|    187093|\n",
      "+---------+-------+----------+\n",
      "only showing top 20 rows\n",
      "\n"
     ]
    }
   ],
   "source": [
    "generation_df = spark.sql(\"\"\"\n",
    "    WITH temp_table AS (\n",
    "        SELECT Nomes, Pais,\n",
    "            CASE\n",
    "                WHEN AnoNascimento BETWEEN 1944 AND 1964 THEN 'BB'\n",
    "                WHEN AnoNascimento BETWEEN 1965 AND 1979 THEN 'X'\n",
    "                WHEN AnoNascimento BETWEEN 1980 AND 1994 THEN 'Y'\n",
    "                WHEN AnoNascimento BETWEEN 1995 AND 2015 THEN 'Z'\n",
    "                ELSE 'Undefined'\n",
    "            END AS Geracao\n",
    "        FROM People\n",
    "    )\n",
    "    SELECT Pais, Geracao, COUNT(*) AS Quantidade \n",
    "    FROM temp_table\n",
    "    GROUP BY Pais, Geracao\n",
    "\"\"\")\n",
    "\n",
    "generation_df.sort(\"Pais\", \"Geracao\", \"Quantidade\").show()"
   ]
  }
 ],
 "metadata": {
  "kernelspec": {
   "display_name": "Python 3 (ipykernel)",
   "language": "python",
   "name": "python3"
  },
  "language_info": {
   "codemirror_mode": {
    "name": "ipython",
    "version": 3
   },
   "file_extension": ".py",
   "mimetype": "text/x-python",
   "name": "python",
   "nbconvert_exporter": "python",
   "pygments_lexer": "ipython3",
   "version": "3.11.6"
  }
 },
 "nbformat": 4,
 "nbformat_minor": 5
}
